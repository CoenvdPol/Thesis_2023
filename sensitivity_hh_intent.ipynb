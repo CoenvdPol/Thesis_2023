{
 "cells": [
  {
   "cell_type": "markdown",
   "id": "4a8eae72",
   "metadata": {},
   "source": [
    "For reference use examples provided by Kwakkel (2018): https://github.com/quaquel/pyNetLogo/blob/55431ddb3c75c5dec41855fca874fbc7e9034ce1/examples/SALib_sequential.ipynb\n",
    "Make sure when implementing the code, that the file directories where the model is stored is correct."
   ]
  },
  {
   "cell_type": "code",
   "execution_count": 18,
   "id": "f0a7e086",
   "metadata": {},
   "outputs": [],
   "source": [
    "import numpy as np\n",
    "import pandas as pd\n",
    "import matplotlib.pyplot as plt\n",
    "import seaborn as sns\n",
    "\n",
    "import pyNetLogo\n",
    "\n",
    "#Import the sampling and analysis modules for a Sobol variance-based sensitivity analysis\n",
    "from SALib.sample import saltelli\n",
    "from SALib.analyze import sobol"
   ]
  },
  {
   "cell_type": "code",
   "execution_count": 19,
   "id": "260a0b44",
   "metadata": {},
   "outputs": [],
   "source": [
    "problem = { \n",
    "  'num_vars': 2,\n",
    "  'names': ['fac-observability',\n",
    "            'fac-eff-trust-others'], \n",
    "  'bounds': [[0.025, 0.075],\n",
    "             [0.025, 0.075] \n",
    "            ]\n",
    "}\n"
   ]
  },
  {
   "cell_type": "code",
   "execution_count": 3,
   "id": "1f6892a7",
   "metadata": {},
   "outputs": [],
   "source": [
    "import os\n",
    "\n",
    "netlogo = pyNetLogo.NetLogoLink(gui=False)\n",
    "model_file = os.path.join(netlogo.netlogo_home, 'models/Model 01-02.1 final.nlogo')\n",
    "netlogo.load_model(model_file)"
   ]
  },
  {
   "cell_type": "code",
   "execution_count": 4,
   "id": "4db8ed35",
   "metadata": {},
   "outputs": [
    {
     "name": "stderr",
     "output_type": "stream",
     "text": [
      "/var/folders/ql/w63wxz_17xnd0ryv6kshxn380000gn/T/ipykernel_6098/2042170087.py:2: DeprecationWarning: `salib.sample.saltelli` will be removed in SALib 1.5. Please use `salib.sample.sobol`\n",
      "  param_values = saltelli.sample(problem, n, calc_second_order=True)\n",
      "/Users/rvdpn/opt/anaconda3/envs/netlogo-env/lib/python3.10/site-packages/SALib/sample/saltelli.py:109: UserWarning: \n",
      "        Convergence properties of the Sobol' sequence is only valid if\n",
      "        `N` (100) is equal to `2^n`.\n",
      "        \n",
      "  warnings.warn(msg)\n"
     ]
    }
   ],
   "source": [
    "n = 100\n",
    "param_values = saltelli.sample(problem, n, calc_second_order=True)"
   ]
  },
  {
   "cell_type": "code",
   "execution_count": 5,
   "id": "2fd7a8fa",
   "metadata": {},
   "outputs": [
    {
     "data": {
      "text/plain": [
       "(600, 2)"
      ]
     },
     "execution_count": 5,
     "metadata": {},
     "output_type": "execute_result"
    }
   ],
   "source": [
    "param_values.shape"
   ]
  },
  {
   "cell_type": "code",
   "execution_count": 6,
   "id": "b1e4b1da",
   "metadata": {},
   "outputs": [
    {
     "data": {
      "text/html": [
       "<div>\n",
       "<style scoped>\n",
       "    .dataframe tbody tr th:only-of-type {\n",
       "        vertical-align: middle;\n",
       "    }\n",
       "\n",
       "    .dataframe tbody tr th {\n",
       "        vertical-align: top;\n",
       "    }\n",
       "\n",
       "    .dataframe thead th {\n",
       "        text-align: right;\n",
       "    }\n",
       "</style>\n",
       "<table border=\"1\" class=\"dataframe\">\n",
       "  <thead>\n",
       "    <tr style=\"text-align: right;\">\n",
       "      <th></th>\n",
       "      <th>Avg intent</th>\n",
       "    </tr>\n",
       "  </thead>\n",
       "  <tbody>\n",
       "  </tbody>\n",
       "</table>\n",
       "</div>"
      ],
      "text/plain": [
       "Empty DataFrame\n",
       "Columns: [Avg intent]\n",
       "Index: []"
      ]
     },
     "execution_count": 6,
     "metadata": {},
     "output_type": "execute_result"
    }
   ],
   "source": [
    "results = pd.DataFrame(columns=['Avg intent'])\n",
    "results"
   ]
  },
  {
   "cell_type": "code",
   "execution_count": 7,
   "id": "acea0c56",
   "metadata": {},
   "outputs": [],
   "source": [
    "import time\n",
    "\n",
    "t0 = time.time()\n",
    "\n",
    "for run in range(param_values.shape[0]):\n",
    "    \n",
    "    #Set the input parameters\n",
    "    for i, name in enumerate(problem['names']):\n",
    "        if name == 'random-seed':\n",
    "            #The NetLogo random seed requires a different syntax\n",
    "            netlogo.command('random-seed {}'.format(param_values[run,i]))\n",
    "        else:\n",
    "            #Otherwise, assume the input parameters are global variables\n",
    "            netlogo.command('set {0} {1}'.format(name, param_values[run,i]))\n",
    "            \n",
    "    netlogo.command('setup')\n",
    "    #Run for 100 ticks and return the number of sheep and wolf agents at each time step\n",
    "    counts = netlogo.repeat_report(['mean [intent] of households'], 520, include_t0=False)\n",
    "    \n",
    "    #For each run, save the mean value of the agent counts over time]\n",
    "    results.loc[run, 'Avg intent'] = counts['mean [intent] of households'].values.mean()\n",
    "    \n",
    "elapsed = time.time()-t0 #Elapsed runtime in seconds"
   ]
  },
  {
   "cell_type": "code",
   "execution_count": 8,
   "id": "b5eca08e",
   "metadata": {},
   "outputs": [
    {
     "data": {
      "text/html": [
       "<div>\n",
       "<style scoped>\n",
       "    .dataframe tbody tr th:only-of-type {\n",
       "        vertical-align: middle;\n",
       "    }\n",
       "\n",
       "    .dataframe tbody tr th {\n",
       "        vertical-align: top;\n",
       "    }\n",
       "\n",
       "    .dataframe thead th {\n",
       "        text-align: right;\n",
       "    }\n",
       "</style>\n",
       "<table border=\"1\" class=\"dataframe\">\n",
       "  <thead>\n",
       "    <tr style=\"text-align: right;\">\n",
       "      <th></th>\n",
       "      <th>Avg intent</th>\n",
       "    </tr>\n",
       "  </thead>\n",
       "  <tbody>\n",
       "    <tr>\n",
       "      <th>0</th>\n",
       "      <td>0.023939</td>\n",
       "    </tr>\n",
       "    <tr>\n",
       "      <th>1</th>\n",
       "      <td>0.014751</td>\n",
       "    </tr>\n",
       "    <tr>\n",
       "      <th>2</th>\n",
       "      <td>0.046438</td>\n",
       "    </tr>\n",
       "    <tr>\n",
       "      <th>3</th>\n",
       "      <td>0.034819</td>\n",
       "    </tr>\n",
       "    <tr>\n",
       "      <th>4</th>\n",
       "      <td>0.024897</td>\n",
       "    </tr>\n",
       "    <tr>\n",
       "      <th>...</th>\n",
       "      <td>...</td>\n",
       "    </tr>\n",
       "    <tr>\n",
       "      <th>595</th>\n",
       "      <td>0.058197</td>\n",
       "    </tr>\n",
       "    <tr>\n",
       "      <th>596</th>\n",
       "      <td>0.022453</td>\n",
       "    </tr>\n",
       "    <tr>\n",
       "      <th>597</th>\n",
       "      <td>0.036998</td>\n",
       "    </tr>\n",
       "    <tr>\n",
       "      <th>598</th>\n",
       "      <td>0.043214</td>\n",
       "    </tr>\n",
       "    <tr>\n",
       "      <th>599</th>\n",
       "      <td>0.033134</td>\n",
       "    </tr>\n",
       "  </tbody>\n",
       "</table>\n",
       "<p>600 rows × 1 columns</p>\n",
       "</div>"
      ],
      "text/plain": [
       "    Avg intent\n",
       "0     0.023939\n",
       "1     0.014751\n",
       "2     0.046438\n",
       "3     0.034819\n",
       "4     0.024897\n",
       "..         ...\n",
       "595   0.058197\n",
       "596   0.022453\n",
       "597   0.036998\n",
       "598   0.043214\n",
       "599   0.033134\n",
       "\n",
       "[600 rows x 1 columns]"
      ]
     },
     "execution_count": 8,
     "metadata": {},
     "output_type": "execute_result"
    }
   ],
   "source": [
    "results"
   ]
  },
  {
   "cell_type": "code",
   "execution_count": 16,
   "id": "4c0b3d28",
   "metadata": {},
   "outputs": [],
   "source": [
    "results.to_csv('Sobol_sequential_hh_intent.csv')"
   ]
  },
  {
   "cell_type": "code",
   "execution_count": 20,
   "id": "f0c0ad8d",
   "metadata": {},
   "outputs": [],
   "source": [
    "results = pd.read_csv('Sobol_sequential_hh_intent.csv', header=0, index_col=0)"
   ]
  },
  {
   "cell_type": "code",
   "execution_count": 11,
   "id": "25488273",
   "metadata": {},
   "outputs": [
    {
     "data": {
      "text/plain": [
       "15146.4085419178"
      ]
     },
     "execution_count": 11,
     "metadata": {},
     "output_type": "execute_result"
    }
   ],
   "source": [
    "elapsed"
   ]
  },
  {
   "cell_type": "code",
   "execution_count": 21,
   "id": "b1d45c59",
   "metadata": {},
   "outputs": [],
   "source": [
    "Si = sobol.analyze(problem, results['Avg intent'].values, calc_second_order=True, print_to_console=False)"
   ]
  },
  {
   "cell_type": "code",
   "execution_count": 22,
   "id": "aa533026",
   "metadata": {},
   "outputs": [],
   "source": [
    "Si_filter = {k:Si[k] for k in ['ST','ST_conf','S1','S1_conf']}\n",
    "Si_df = pd.DataFrame(Si_filter, index=problem['names'])"
   ]
  },
  {
   "cell_type": "code",
   "execution_count": 23,
   "id": "7cb68256",
   "metadata": {},
   "outputs": [
    {
     "data": {
      "text/html": [
       "<div>\n",
       "<style scoped>\n",
       "    .dataframe tbody tr th:only-of-type {\n",
       "        vertical-align: middle;\n",
       "    }\n",
       "\n",
       "    .dataframe tbody tr th {\n",
       "        vertical-align: top;\n",
       "    }\n",
       "\n",
       "    .dataframe thead th {\n",
       "        text-align: right;\n",
       "    }\n",
       "</style>\n",
       "<table border=\"1\" class=\"dataframe\">\n",
       "  <thead>\n",
       "    <tr style=\"text-align: right;\">\n",
       "      <th></th>\n",
       "      <th>ST</th>\n",
       "      <th>ST_conf</th>\n",
       "      <th>S1</th>\n",
       "      <th>S1_conf</th>\n",
       "    </tr>\n",
       "  </thead>\n",
       "  <tbody>\n",
       "    <tr>\n",
       "      <th>fac-observability</th>\n",
       "      <td>0.899183</td>\n",
       "      <td>0.267719</td>\n",
       "      <td>-0.041500</td>\n",
       "      <td>0.220150</td>\n",
       "    </tr>\n",
       "    <tr>\n",
       "      <th>fac-eff-trust-others</th>\n",
       "      <td>1.061465</td>\n",
       "      <td>0.220647</td>\n",
       "      <td>-0.173953</td>\n",
       "      <td>0.268863</td>\n",
       "    </tr>\n",
       "  </tbody>\n",
       "</table>\n",
       "</div>"
      ],
      "text/plain": [
       "                            ST   ST_conf        S1   S1_conf\n",
       "fac-observability     0.899183  0.267719 -0.041500  0.220150\n",
       "fac-eff-trust-others  1.061465  0.220647 -0.173953  0.268863"
      ]
     },
     "execution_count": 23,
     "metadata": {},
     "output_type": "execute_result"
    }
   ],
   "source": [
    "Si_df"
   ]
  },
  {
   "cell_type": "code",
   "execution_count": 26,
   "id": "cd89d092",
   "metadata": {},
   "outputs": [
    {
     "data": {
      "image/png": "[encoded data removed]",
      "text/plain": [
       "<Figure size 800x400 with 1 Axes>"
      ]
     },
     "metadata": {},
     "output_type": "display_data"
    }
   ],
   "source": [
    "sns.set_style('white')\n",
    "fig, ax = plt.subplots(1)\n",
    "\n",
    "indices = Si_df[['S1','ST']]\n",
    "err = Si_df[['S1_conf','ST_conf']]\n",
    "\n",
    "indices.plot.bar(yerr=err.values.T,ax=ax)\n",
    "ax.set_title('Si and STi of the average intent of households')\n",
    "fig.set_size_inches(8,4)\n",
    "\n",
    "plt.savefig('Si and STi of the average intent of households', bbox_inches='tight')\n",
    "\n",
    "\n",
    "plt.show()"
   ]
  },
  {
   "cell_type": "code",
   "execution_count": null,
   "id": "35348c40",
   "metadata": {},
   "outputs": [],
   "source": [
    "    "
   ]
  }
 ],
 "metadata": {
  "kernelspec": {
   "display_name": "Python 3 (ipykernel)",
   "language": "python",
   "name": "python3"
  },
  "language_info": {
   "codemirror_mode": {
    "name": "ipython",
    "version": 3
   },
   "file_extension": ".py",
   "mimetype": "text/x-python",
   "name": "python",
   "nbconvert_exporter": "python",
   "pygments_lexer": "ipython3",
   "version": "3.10.9"
  }
 },
 "nbformat": 4,
 "nbformat_minor": 5
}
