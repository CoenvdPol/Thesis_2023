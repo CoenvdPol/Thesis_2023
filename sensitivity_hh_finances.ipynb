{
 "cells": [
  {
   "cell_type": "markdown",
   "id": "c47edfab",
   "metadata": {},
   "source": [
    "For reference use examples provided by Kwakkel (2018): https://github.com/quaquel/pyNetLogo/blob/55431ddb3c75c5dec41855fca874fbc7e9034ce1/examples/SALib_sequential.ipynb\n",
    "Make sure when implementing the code, that the file directories where the model is stored is correct."
   ]
  },
  {
   "cell_type": "code",
   "execution_count": 2,
   "id": "a1c889d4",
   "metadata": {},
   "outputs": [],
   "source": [
    "import numpy as np\n",
    "import pandas as pd\n",
    "import matplotlib.pyplot as plt\n",
    "import seaborn as sns\n",
    "\n",
    "import pyNetLogo\n",
    "\n",
    "#Import the sampling and analysis modules for a Sobol variance-based sensitivity analysis\n",
    "from SALib.sample import saltelli\n",
    "from SALib.analyze import sobol"
   ]
  },
  {
   "cell_type": "code",
   "execution_count": 5,
   "id": "c4a3dbdd",
   "metadata": {},
   "outputs": [],
   "source": [
    "problem = { \n",
    "  'num_vars': 6,\n",
    "  'names': ['MW-block-res',\n",
    "            'MW-block-price-res',\n",
    "            'fac-spend-rpv',\n",
    "            'electricity-price',\n",
    "            'kWh-kW',\n",
    "            'discount-rate'], \n",
    "  'bounds': [[100, 200],\n",
    "             [100, 300],\n",
    "             [2 , 6],\n",
    "             [0.15 , 0.3],\n",
    "             [800 , 1100],\n",
    "             [0.025 , 0.075]\n",
    "            ]\n",
    "}\n"
   ]
  },
  {
   "cell_type": "code",
   "execution_count": 3,
   "id": "56dbb93b",
   "metadata": {},
   "outputs": [],
   "source": [
    "import os\n",
    "\n",
    "netlogo = pyNetLogo.NetLogoLink(gui=False)\n",
    "model_file = os.path.join(netlogo.netlogo_home, 'models/Model 01-02.1 final.nlogo')\n",
    "netlogo.load_model(model_file)"
   ]
  },
  {
   "cell_type": "code",
   "execution_count": 4,
   "id": "a239dbf8",
   "metadata": {},
   "outputs": [
    {
     "name": "stderr",
     "output_type": "stream",
     "text": [
      "/Users/flipsteenbrink/opt/anaconda3/lib/python3.7/site-packages/SALib/sample/saltelli.py:94: UserWarning: \n",
      "        Convergence properties of the Sobol' sequence is only valid if\n",
      "        `N` (100) is equal to `2^n`.\n",
      "        \n",
      "  warnings.warn(msg)\n"
     ]
    }
   ],
   "source": [
    "n = 100\n",
    "param_values = saltelli.sample(problem, n, calc_second_order=True)"
   ]
  },
  {
   "cell_type": "code",
   "execution_count": null,
   "id": "81a9ecb7",
   "metadata": {},
   "outputs": [],
   "source": []
  },
  {
   "cell_type": "code",
   "execution_count": 5,
   "id": "e7842c70",
   "metadata": {},
   "outputs": [
    {
     "data": {
      "text/plain": [
       "(1400, 6)"
      ]
     },
     "execution_count": 5,
     "metadata": {},
     "output_type": "execute_result"
    }
   ],
   "source": [
    "param_values.shape"
   ]
  },
  {
   "cell_type": "code",
   "execution_count": 6,
   "id": "f2b76a46",
   "metadata": {},
   "outputs": [
    {
     "data": {
      "text/html": [
       "<div>\n",
       "<style scoped>\n",
       "    .dataframe tbody tr th:only-of-type {\n",
       "        vertical-align: middle;\n",
       "    }\n",
       "\n",
       "    .dataframe tbody tr th {\n",
       "        vertical-align: top;\n",
       "    }\n",
       "\n",
       "    .dataframe thead th {\n",
       "        text-align: right;\n",
       "    }\n",
       "</style>\n",
       "<table border=\"1\" class=\"dataframe\">\n",
       "  <thead>\n",
       "    <tr style=\"text-align: right;\">\n",
       "      <th></th>\n",
       "      <th>Avg finances</th>\n",
       "    </tr>\n",
       "  </thead>\n",
       "  <tbody>\n",
       "  </tbody>\n",
       "</table>\n",
       "</div>"
      ],
      "text/plain": [
       "Empty DataFrame\n",
       "Columns: [Avg finances]\n",
       "Index: []"
      ]
     },
     "execution_count": 6,
     "metadata": {},
     "output_type": "execute_result"
    }
   ],
   "source": [
    "results = pd.DataFrame(columns=['Avg finances'])\n",
    "results"
   ]
  },
  {
   "cell_type": "code",
   "execution_count": 7,
   "id": "0c76703f",
   "metadata": {},
   "outputs": [],
   "source": [
    "import time\n",
    "\n",
    "t0 = time.time()\n",
    "\n",
    "for run in range(param_values.shape[0]):\n",
    "    \n",
    "    #Set the input parameters\n",
    "    for i, name in enumerate(problem['names']):\n",
    "        if name == 'random-seed':\n",
    "            #The NetLogo random seed requires a different syntax\n",
    "            netlogo.command('random-seed {}'.format(param_values[run,i]))\n",
    "        else:\n",
    "            #Otherwise, assume the input parameters are global variables\n",
    "            netlogo.command('set {0} {1}'.format(name, param_values[run,i]))\n",
    "            \n",
    "    netlogo.command('setup')\n",
    "    #Run for 100 ticks and return the number of sheep and wolf agents at each time step\n",
    "    counts = netlogo.repeat_report(['count households with [switched-pv = true]'], 520, include_t0=False)\n",
    "    \n",
    "    #For each run, save the mean value of the agent counts over time]\n",
    "    results.loc[run, 'Avg finances'] = counts['count households with [switched-pv = true]'].values.mean()\n",
    "    \n",
    "elapsed = time.time()-t0 #Elapsed runtime in seconds"
   ]
  },
  {
   "cell_type": "code",
   "execution_count": 8,
   "id": "60f83abd",
   "metadata": {},
   "outputs": [
    {
     "data": {
      "text/html": [
       "<div>\n",
       "<style scoped>\n",
       "    .dataframe tbody tr th:only-of-type {\n",
       "        vertical-align: middle;\n",
       "    }\n",
       "\n",
       "    .dataframe tbody tr th {\n",
       "        vertical-align: top;\n",
       "    }\n",
       "\n",
       "    .dataframe thead th {\n",
       "        text-align: right;\n",
       "    }\n",
       "</style>\n",
       "<table border=\"1\" class=\"dataframe\">\n",
       "  <thead>\n",
       "    <tr style=\"text-align: right;\">\n",
       "      <th></th>\n",
       "      <th>Avg finances</th>\n",
       "    </tr>\n",
       "  </thead>\n",
       "  <tbody>\n",
       "    <tr>\n",
       "      <td>0</td>\n",
       "      <td>136.435</td>\n",
       "    </tr>\n",
       "    <tr>\n",
       "      <td>1</td>\n",
       "      <td>138.437</td>\n",
       "    </tr>\n",
       "    <tr>\n",
       "      <td>2</td>\n",
       "      <td>125.988</td>\n",
       "    </tr>\n",
       "    <tr>\n",
       "      <td>3</td>\n",
       "      <td>144.535</td>\n",
       "    </tr>\n",
       "    <tr>\n",
       "      <td>4</td>\n",
       "      <td>123.39</td>\n",
       "    </tr>\n",
       "    <tr>\n",
       "      <td>...</td>\n",
       "      <td>...</td>\n",
       "    </tr>\n",
       "    <tr>\n",
       "      <td>1395</td>\n",
       "      <td>137.212</td>\n",
       "    </tr>\n",
       "    <tr>\n",
       "      <td>1396</td>\n",
       "      <td>131.075</td>\n",
       "    </tr>\n",
       "    <tr>\n",
       "      <td>1397</td>\n",
       "      <td>119.031</td>\n",
       "    </tr>\n",
       "    <tr>\n",
       "      <td>1398</td>\n",
       "      <td>142.233</td>\n",
       "    </tr>\n",
       "    <tr>\n",
       "      <td>1399</td>\n",
       "      <td>139.74</td>\n",
       "    </tr>\n",
       "  </tbody>\n",
       "</table>\n",
       "<p>1400 rows × 1 columns</p>\n",
       "</div>"
      ],
      "text/plain": [
       "     Avg finances\n",
       "0         136.435\n",
       "1         138.437\n",
       "2         125.988\n",
       "3         144.535\n",
       "4          123.39\n",
       "...           ...\n",
       "1395      137.212\n",
       "1396      131.075\n",
       "1397      119.031\n",
       "1398      142.233\n",
       "1399       139.74\n",
       "\n",
       "[1400 rows x 1 columns]"
      ]
     },
     "execution_count": 8,
     "metadata": {},
     "output_type": "execute_result"
    }
   ],
   "source": [
    "results"
   ]
  },
  {
   "cell_type": "code",
   "execution_count": 17,
   "id": "fe68f86a",
   "metadata": {},
   "outputs": [],
   "source": [
    "results.to_csv('Sobol_sequential_hh_finances.csv')"
   ]
  },
  {
   "cell_type": "code",
   "execution_count": 3,
   "id": "3cd646f3",
   "metadata": {},
   "outputs": [],
   "source": [
    "results = pd.read_csv('Sobol_sequential_hh_finances.csv', header=0, index_col=0)"
   ]
  },
  {
   "cell_type": "code",
   "execution_count": 19,
   "id": "35b96355",
   "metadata": {},
   "outputs": [
    {
     "data": {
      "text/plain": [
       "23693.80118894577"
      ]
     },
     "execution_count": 19,
     "metadata": {},
     "output_type": "execute_result"
    }
   ],
   "source": [
    "elapsed"
   ]
  },
  {
   "cell_type": "code",
   "execution_count": 6,
   "id": "81a63a88",
   "metadata": {},
   "outputs": [],
   "source": [
    "Si = sobol.analyze(problem, results['Avg finances'].values, calc_second_order=True, print_to_console=False)"
   ]
  },
  {
   "cell_type": "code",
   "execution_count": 7,
   "id": "867fdd11",
   "metadata": {},
   "outputs": [],
   "source": [
    "Si_filter = {k:Si[k] for k in ['ST','ST_conf','S1','S1_conf']}\n",
    "Si_df = pd.DataFrame(Si_filter, index=problem['names'])"
   ]
  },
  {
   "cell_type": "code",
   "execution_count": 8,
   "id": "dcdfe1be",
   "metadata": {},
   "outputs": [
    {
     "data": {
      "text/html": [
       "<div>\n",
       "<style scoped>\n",
       "    .dataframe tbody tr th:only-of-type {\n",
       "        vertical-align: middle;\n",
       "    }\n",
       "\n",
       "    .dataframe tbody tr th {\n",
       "        vertical-align: top;\n",
       "    }\n",
       "\n",
       "    .dataframe thead th {\n",
       "        text-align: right;\n",
       "    }\n",
       "</style>\n",
       "<table border=\"1\" class=\"dataframe\">\n",
       "  <thead>\n",
       "    <tr style=\"text-align: right;\">\n",
       "      <th></th>\n",
       "      <th>ST</th>\n",
       "      <th>ST_conf</th>\n",
       "      <th>S1</th>\n",
       "      <th>S1_conf</th>\n",
       "    </tr>\n",
       "  </thead>\n",
       "  <tbody>\n",
       "    <tr>\n",
       "      <th>MW-block-res</th>\n",
       "      <td>0.919871</td>\n",
       "      <td>0.297655</td>\n",
       "      <td>-0.008958</td>\n",
       "      <td>0.239536</td>\n",
       "    </tr>\n",
       "    <tr>\n",
       "      <th>MW-block-price-res</th>\n",
       "      <td>0.997258</td>\n",
       "      <td>0.273487</td>\n",
       "      <td>-0.135204</td>\n",
       "      <td>0.292929</td>\n",
       "    </tr>\n",
       "    <tr>\n",
       "      <th>fac-spend-rpv</th>\n",
       "      <td>0.808814</td>\n",
       "      <td>0.218334</td>\n",
       "      <td>0.260151</td>\n",
       "      <td>0.265950</td>\n",
       "    </tr>\n",
       "    <tr>\n",
       "      <th>electricity-price</th>\n",
       "      <td>0.872655</td>\n",
       "      <td>0.253493</td>\n",
       "      <td>-0.029634</td>\n",
       "      <td>0.230455</td>\n",
       "    </tr>\n",
       "    <tr>\n",
       "      <th>kWh-kW</th>\n",
       "      <td>0.896745</td>\n",
       "      <td>0.218359</td>\n",
       "      <td>0.052626</td>\n",
       "      <td>0.316172</td>\n",
       "    </tr>\n",
       "    <tr>\n",
       "      <th>discount-rate</th>\n",
       "      <td>0.993209</td>\n",
       "      <td>0.314313</td>\n",
       "      <td>0.072695</td>\n",
       "      <td>0.278197</td>\n",
       "    </tr>\n",
       "  </tbody>\n",
       "</table>\n",
       "</div>"
      ],
      "text/plain": [
       "                          ST   ST_conf        S1   S1_conf\n",
       "MW-block-res        0.919871  0.297655 -0.008958  0.239536\n",
       "MW-block-price-res  0.997258  0.273487 -0.135204  0.292929\n",
       "fac-spend-rpv       0.808814  0.218334  0.260151  0.265950\n",
       "electricity-price   0.872655  0.253493 -0.029634  0.230455\n",
       "kWh-kW              0.896745  0.218359  0.052626  0.316172\n",
       "discount-rate       0.993209  0.314313  0.072695  0.278197"
      ]
     },
     "execution_count": 8,
     "metadata": {},
     "output_type": "execute_result"
    }
   ],
   "source": [
    "Si_df"
   ]
  },
  {
   "cell_type": "code",
   "execution_count": 10,
   "id": "27a0727a",
   "metadata": {},
   "outputs": [
    {
     "data": {
      "image/png": "[encoded data removed]",
      "text/plain": [
       "<Figure size 800x400 with 1 Axes>"
      ]
     },
     "metadata": {},
     "output_type": "display_data"
    }
   ],
   "source": [
    "sns.set_style('white')\n",
    "fig, ax = plt.subplots(1)\n",
    "\n",
    "indices = Si_df[['S1','ST']]\n",
    "err = Si_df[['S1_conf','ST_conf']]\n",
    "\n",
    "indices.plot.bar(yerr=err.values.T,ax=ax)\n",
    "ax.set_title('Si and STi of the average number of households with RPV')\n",
    "fig.set_size_inches(8,4)\n",
    "\n",
    "plt.savefig('Si and STi of the average number of households with RPV', bbox_inches='tight')\n",
    "\n",
    "\n",
    "plt.show()"
   ]
  },
  {
   "cell_type": "code",
   "execution_count": null,
   "id": "f7ad882f",
   "metadata": {},
   "outputs": [],
   "source": []
  }
 ],
 "metadata": {
  "kernelspec": {
   "display_name": "Python 3 (ipykernel)",
   "language": "python",
   "name": "python3"
  },
  "language_info": {
   "codemirror_mode": {
    "name": "ipython",
    "version": 3
   },
   "file_extension": ".py",
   "mimetype": "text/x-python",
   "name": "python",
   "nbconvert_exporter": "python",
   "pygments_lexer": "ipython3",
   "version": "3.10.9"
  }
 },
 "nbformat": 4,
 "nbformat_minor": 5
}
