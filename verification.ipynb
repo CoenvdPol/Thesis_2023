{
 "cells": [
  {
   "cell_type": "code",
   "execution_count": 1,
   "id": "7370d2c9",
   "metadata": {},
   "outputs": [],
   "source": [
    "%matplotlib inline\n",
    "import math\n",
    "import pandas as pd\n",
    "import numpy as np\n",
    "import csv\n",
    "import seaborn as sns\n",
    "import matplotlib.pyplot as plt\n",
    "from mpl_toolkits.mplot3d import Axes3D\n",
    "import statsmodels.api as sm\n",
    "import scipy.stats as stats\n",
    "plt.style.use('ggplot')\n",
    "\n",
    "from IPython.core.interactiveshell import InteractiveShell\n",
    "InteractiveShell.ast_node_interactivity = \"all\"\n",
    "pd.options.display.max_rows = 20\n",
    "pd.options.display.max_columns = 100\n",
    "from pandas.core.computation.check import NUMEXPR_INSTALLED"
   ]
  },
  {
   "cell_type": "code",
   "execution_count": null,
   "id": "5e38edbb",
   "metadata": {},
   "outputs": [],
   "source": []
  },
  {
   "cell_type": "code",
   "execution_count": 2,
   "id": "f7a0f800",
   "metadata": {},
   "outputs": [],
   "source": [
    "df_ver0= pd.read_csv('Model 8-12.1 final VERIFICATION-table.csv', skiprows = 6)\n",
    "df_ver2= pd.read_csv('Model 8-12.1 final VERIFICATION2-table.csv', skiprows = 6)\n",
    "df_ver3= pd.read_csv('Model 8-12.1 final VERIFICATION3-table.csv', skiprows = 6)\n",
    "df_ver4= pd.read_csv('Model 8-12.1 final VERIFICATION4-table.csv', skiprows = 6)"
   ]
  },
  {
   "cell_type": "code",
   "execution_count": 3,
   "id": "e28191f0",
   "metadata": {
    "scrolled": false
   },
   "outputs": [
    {
     "data": {
      "text/html": [
       "<div>\n",
       "<style scoped>\n",
       "    .dataframe tbody tr th:only-of-type {\n",
       "        vertical-align: middle;\n",
       "    }\n",
       "\n",
       "    .dataframe tbody tr th {\n",
       "        vertical-align: top;\n",
       "    }\n",
       "\n",
       "    .dataframe thead th {\n",
       "        text-align: right;\n",
       "    }\n",
       "</style>\n",
       "<table border=\"1\" class=\"dataframe\">\n",
       "  <thead>\n",
       "    <tr style=\"text-align: right;\">\n",
       "      <th></th>\n",
       "      <th>[run number]</th>\n",
       "      <th>intv1</th>\n",
       "      <th>intv2</th>\n",
       "      <th>intv3</th>\n",
       "      <th>region</th>\n",
       "      <th>#-developers</th>\n",
       "      <th>#-households</th>\n",
       "      <th>MW-block-init-kW-res</th>\n",
       "      <th>MW-block-init-kW-com</th>\n",
       "      <th>e-price-effect</th>\n",
       "      <th>csp-true</th>\n",
       "      <th>[step]</th>\n",
       "      <th>sum [electricity-bill] of households</th>\n",
       "      <th>sum [project-costs-2] of households</th>\n",
       "      <th>sum [own-usage] of households</th>\n",
       "      <th>sum [own-prod] of households</th>\n",
       "      <th>sum [prod-csp] of households</th>\n",
       "      <th>sum [emissions] of households</th>\n",
       "      <th>count households with [switched-pv = true]</th>\n",
       "      <th>count households with [signed-to-csp = true]</th>\n",
       "      <th>count households with [able-to-cs = true]</th>\n",
       "      <th>count households with [NPV &gt; 0] with [has-rooftop? = true]</th>\n",
       "      <th>count households with [savings &gt; project-costs] with [has-rooftop? = true]</th>\n",
       "      <th>mean [age] of households</th>\n",
       "      <th>mean [income] of households</th>\n",
       "      <th>mean [education] of households</th>\n",
       "      <th>mean [savings] of households</th>\n",
       "      <th>count developers</th>\n",
       "      <th>pot-profit</th>\n",
       "    </tr>\n",
       "  </thead>\n",
       "  <tbody>\n",
       "    <tr>\n",
       "      <th>0</th>\n",
       "      <td>1</td>\n",
       "      <td>False</td>\n",
       "      <td>False</td>\n",
       "      <td>False</td>\n",
       "      <td>ConEd</td>\n",
       "      <td>0</td>\n",
       "      <td>2000</td>\n",
       "      <td>150</td>\n",
       "      <td>120</td>\n",
       "      <td>False</td>\n",
       "      <td>False</td>\n",
       "      <td>0</td>\n",
       "      <td>0.000000</td>\n",
       "      <td>0.0</td>\n",
       "      <td>450984.402090</td>\n",
       "      <td>0.0</td>\n",
       "      <td>0</td>\n",
       "      <td>1.241885e+08</td>\n",
       "      <td>0</td>\n",
       "      <td>0</td>\n",
       "      <td>0</td>\n",
       "      <td>0</td>\n",
       "      <td>0</td>\n",
       "      <td>-0.001471</td>\n",
       "      <td>-0.002545</td>\n",
       "      <td>-0.011637</td>\n",
       "      <td>0.000000</td>\n",
       "      <td>0</td>\n",
       "      <td>0</td>\n",
       "    </tr>\n",
       "    <tr>\n",
       "      <th>1</th>\n",
       "      <td>5</td>\n",
       "      <td>False</td>\n",
       "      <td>False</td>\n",
       "      <td>False</td>\n",
       "      <td>ConEd</td>\n",
       "      <td>0</td>\n",
       "      <td>2000</td>\n",
       "      <td>150</td>\n",
       "      <td>120</td>\n",
       "      <td>False</td>\n",
       "      <td>False</td>\n",
       "      <td>0</td>\n",
       "      <td>0.000000</td>\n",
       "      <td>0.0</td>\n",
       "      <td>449669.770371</td>\n",
       "      <td>0.0</td>\n",
       "      <td>0</td>\n",
       "      <td>1.238265e+08</td>\n",
       "      <td>0</td>\n",
       "      <td>0</td>\n",
       "      <td>0</td>\n",
       "      <td>0</td>\n",
       "      <td>0</td>\n",
       "      <td>0.003402</td>\n",
       "      <td>-0.016277</td>\n",
       "      <td>-0.022468</td>\n",
       "      <td>0.000000</td>\n",
       "      <td>0</td>\n",
       "      <td>0</td>\n",
       "    </tr>\n",
       "    <tr>\n",
       "      <th>2</th>\n",
       "      <td>2</td>\n",
       "      <td>False</td>\n",
       "      <td>False</td>\n",
       "      <td>False</td>\n",
       "      <td>ConEd</td>\n",
       "      <td>0</td>\n",
       "      <td>2000</td>\n",
       "      <td>150</td>\n",
       "      <td>120</td>\n",
       "      <td>False</td>\n",
       "      <td>False</td>\n",
       "      <td>0</td>\n",
       "      <td>0.000000</td>\n",
       "      <td>0.0</td>\n",
       "      <td>451232.803565</td>\n",
       "      <td>0.0</td>\n",
       "      <td>0</td>\n",
       "      <td>1.242569e+08</td>\n",
       "      <td>0</td>\n",
       "      <td>0</td>\n",
       "      <td>0</td>\n",
       "      <td>0</td>\n",
       "      <td>0</td>\n",
       "      <td>-0.008697</td>\n",
       "      <td>0.007906</td>\n",
       "      <td>0.011332</td>\n",
       "      <td>0.000000</td>\n",
       "      <td>0</td>\n",
       "      <td>0</td>\n",
       "    </tr>\n",
       "    <tr>\n",
       "      <th>3</th>\n",
       "      <td>6</td>\n",
       "      <td>False</td>\n",
       "      <td>False</td>\n",
       "      <td>False</td>\n",
       "      <td>ConEd</td>\n",
       "      <td>0</td>\n",
       "      <td>2000</td>\n",
       "      <td>150</td>\n",
       "      <td>120</td>\n",
       "      <td>False</td>\n",
       "      <td>False</td>\n",
       "      <td>0</td>\n",
       "      <td>0.000000</td>\n",
       "      <td>0.0</td>\n",
       "      <td>444790.562183</td>\n",
       "      <td>0.0</td>\n",
       "      <td>0</td>\n",
       "      <td>1.224829e+08</td>\n",
       "      <td>0</td>\n",
       "      <td>0</td>\n",
       "      <td>0</td>\n",
       "      <td>0</td>\n",
       "      <td>0</td>\n",
       "      <td>-0.031537</td>\n",
       "      <td>-0.023024</td>\n",
       "      <td>-0.032987</td>\n",
       "      <td>0.000000</td>\n",
       "      <td>0</td>\n",
       "      <td>0</td>\n",
       "    </tr>\n",
       "    <tr>\n",
       "      <th>4</th>\n",
       "      <td>1</td>\n",
       "      <td>False</td>\n",
       "      <td>False</td>\n",
       "      <td>False</td>\n",
       "      <td>ConEd</td>\n",
       "      <td>0</td>\n",
       "      <td>2000</td>\n",
       "      <td>150</td>\n",
       "      <td>120</td>\n",
       "      <td>False</td>\n",
       "      <td>False</td>\n",
       "      <td>1</td>\n",
       "      <td>101020.506068</td>\n",
       "      <td>0.0</td>\n",
       "      <td>450984.402090</td>\n",
       "      <td>0.0</td>\n",
       "      <td>0</td>\n",
       "      <td>1.241885e+08</td>\n",
       "      <td>0</td>\n",
       "      <td>0</td>\n",
       "      <td>0</td>\n",
       "      <td>0</td>\n",
       "      <td>629</td>\n",
       "      <td>-0.001471</td>\n",
       "      <td>-0.002545</td>\n",
       "      <td>-0.011637</td>\n",
       "      <td>4217.126494</td>\n",
       "      <td>0</td>\n",
       "      <td>0</td>\n",
       "    </tr>\n",
       "  </tbody>\n",
       "</table>\n",
       "</div>"
      ],
      "text/plain": [
       "   [run number]  intv1  intv2  intv3 region  #-developers  #-households  \\\n",
       "0             1  False  False  False  ConEd             0          2000   \n",
       "1             5  False  False  False  ConEd             0          2000   \n",
       "2             2  False  False  False  ConEd             0          2000   \n",
       "3             6  False  False  False  ConEd             0          2000   \n",
       "4             1  False  False  False  ConEd             0          2000   \n",
       "\n",
       "   MW-block-init-kW-res  MW-block-init-kW-com  e-price-effect  csp-true  \\\n",
       "0                   150                   120           False     False   \n",
       "1                   150                   120           False     False   \n",
       "2                   150                   120           False     False   \n",
       "3                   150                   120           False     False   \n",
       "4                   150                   120           False     False   \n",
       "\n",
       "   [step]  sum [electricity-bill] of households  \\\n",
       "0       0                              0.000000   \n",
       "1       0                              0.000000   \n",
       "2       0                              0.000000   \n",
       "3       0                              0.000000   \n",
       "4       1                         101020.506068   \n",
       "\n",
       "   sum [project-costs-2] of households  sum [own-usage] of households  \\\n",
       "0                                  0.0                  450984.402090   \n",
       "1                                  0.0                  449669.770371   \n",
       "2                                  0.0                  451232.803565   \n",
       "3                                  0.0                  444790.562183   \n",
       "4                                  0.0                  450984.402090   \n",
       "\n",
       "   sum [own-prod] of households  sum [prod-csp] of households  \\\n",
       "0                           0.0                             0   \n",
       "1                           0.0                             0   \n",
       "2                           0.0                             0   \n",
       "3                           0.0                             0   \n",
       "4                           0.0                             0   \n",
       "\n",
       "   sum [emissions] of households  count households with [switched-pv = true]  \\\n",
       "0                   1.241885e+08                                           0   \n",
       "1                   1.238265e+08                                           0   \n",
       "2                   1.242569e+08                                           0   \n",
       "3                   1.224829e+08                                           0   \n",
       "4                   1.241885e+08                                           0   \n",
       "\n",
       "   count households with [signed-to-csp = true]  \\\n",
       "0                                             0   \n",
       "1                                             0   \n",
       "2                                             0   \n",
       "3                                             0   \n",
       "4                                             0   \n",
       "\n",
       "   count households with [able-to-cs = true]  \\\n",
       "0                                          0   \n",
       "1                                          0   \n",
       "2                                          0   \n",
       "3                                          0   \n",
       "4                                          0   \n",
       "\n",
       "   count households with [NPV > 0] with [has-rooftop? = true]  \\\n",
       "0                                                  0            \n",
       "1                                                  0            \n",
       "2                                                  0            \n",
       "3                                                  0            \n",
       "4                                                  0            \n",
       "\n",
       "   count households with [savings > project-costs] with [has-rooftop? = true]  \\\n",
       "0                                                  0                            \n",
       "1                                                  0                            \n",
       "2                                                  0                            \n",
       "3                                                  0                            \n",
       "4                                                629                            \n",
       "\n",
       "   mean [age] of households  mean [income] of households  \\\n",
       "0                 -0.001471                    -0.002545   \n",
       "1                  0.003402                    -0.016277   \n",
       "2                 -0.008697                     0.007906   \n",
       "3                 -0.031537                    -0.023024   \n",
       "4                 -0.001471                    -0.002545   \n",
       "\n",
       "   mean [education] of households  mean [savings] of households  \\\n",
       "0                       -0.011637                      0.000000   \n",
       "1                       -0.022468                      0.000000   \n",
       "2                        0.011332                      0.000000   \n",
       "3                       -0.032987                      0.000000   \n",
       "4                       -0.011637                   4217.126494   \n",
       "\n",
       "   count developers  pot-profit  \n",
       "0                 0           0  \n",
       "1                 0           0  \n",
       "2                 0           0  \n",
       "3                 0           0  \n",
       "4                 0           0  "
      ]
     },
     "execution_count": 3,
     "metadata": {},
     "output_type": "execute_result"
    }
   ],
   "source": [
    "df_ver0.head()"
   ]
  },
  {
   "cell_type": "code",
   "execution_count": 4,
   "id": "e674e603",
   "metadata": {},
   "outputs": [],
   "source": [
    "df_ver0['runs']= 50\n",
    "df_ver2['runs']= 100\n",
    "df_ver3['runs']= 200\n",
    "df_ver4['runs']= 500"
   ]
  },
  {
   "cell_type": "code",
   "execution_count": 5,
   "id": "7cbf247d",
   "metadata": {},
   "outputs": [],
   "source": [
    "frames = [df_ver0, df_ver2, df_ver3, df_ver4]\n",
    "df = pd.concat(frames)"
   ]
  },
  {
   "cell_type": "code",
   "execution_count": 6,
   "id": "29f52db4",
   "metadata": {},
   "outputs": [],
   "source": [
    "df = pd.get_dummies(df, columns=['intv1'], drop_first=True)\n",
    "df = pd.get_dummies(df, columns=['intv2'], drop_first=True)\n",
    "df = pd.get_dummies(df, columns=['intv3'], drop_first=True)"
   ]
  },
  {
   "cell_type": "code",
   "execution_count": 7,
   "id": "7c9086ae",
   "metadata": {},
   "outputs": [
    {
     "data": {
      "text/plain": [
       "['[run number]',\n",
       " 'region',\n",
       " '#-developers',\n",
       " '#-households',\n",
       " 'MW-block-init-kW-res',\n",
       " 'MW-block-init-kW-com',\n",
       " 'e-price-effect',\n",
       " 'csp-true',\n",
       " '[step]',\n",
       " 'sum [electricity-bill] of households',\n",
       " 'sum [project-costs-2] of households',\n",
       " 'sum [own-usage] of households',\n",
       " 'sum [own-prod] of households',\n",
       " 'sum [prod-csp] of households',\n",
       " 'sum [emissions] of households',\n",
       " 'count households with [switched-pv = true]',\n",
       " 'count households with [signed-to-csp = true]',\n",
       " 'count households with [able-to-cs = true]',\n",
       " 'count households with [NPV > 0] with [has-rooftop? = true]',\n",
       " 'count households with [savings > project-costs] with [has-rooftop? = true]',\n",
       " 'mean [age] of households',\n",
       " 'mean [income] of households',\n",
       " 'mean [education] of households',\n",
       " 'mean [savings] of households',\n",
       " 'count developers',\n",
       " 'pot-profit',\n",
       " 'runs']"
      ]
     },
     "execution_count": 7,
     "metadata": {},
     "output_type": "execute_result"
    }
   ],
   "source": [
    "list(df.columns) "
   ]
  },
  {
   "cell_type": "code",
   "execution_count": null,
   "id": "1d496fd9",
   "metadata": {
    "scrolled": true
   },
   "outputs": [],
   "source": []
  },
  {
   "cell_type": "code",
   "execution_count": null,
   "id": "96ac000a",
   "metadata": {},
   "outputs": [],
   "source": []
  },
  {
   "cell_type": "code",
   "execution_count": 8,
   "id": "8f53791c",
   "metadata": {},
   "outputs": [
    {
     "data": {
      "text/plain": [
       "27"
      ]
     },
     "execution_count": 8,
     "metadata": {},
     "output_type": "execute_result"
    }
   ],
   "source": [
    "rename_list = ['[run number]', 'region', '#-developers', '#-households', \n",
    "               'MW-block-init-kW-res', 'MW-block-init-kW-com',\n",
    "               'e-price-effect' , 'csp-true', #'MW-mult'\n",
    "                'tick', 'total-elec-bill', 'total-proj-cost', 'elect-usage', \n",
    "               'prod-hh','csp-prod', 'emissions-hh', '#-hh-rpv', '#-hh-csp' , 'able-to-cs' ,\n",
    "              'pos-npv' , 'pos-savings', 'avg-age', 'avg-income' , 'avg-education', 'avg-savings','developers',\n",
    "               'estimated profit developers','runs'\n",
    "              ]\n",
    "len(rename_list)"
   ]
  },
  {
   "cell_type": "code",
   "execution_count": 9,
   "id": "35a795d9",
   "metadata": {},
   "outputs": [],
   "source": [
    "df.columns  = rename_list"
   ]
  },
  {
   "cell_type": "code",
   "execution_count": 10,
   "id": "02461828",
   "metadata": {},
   "outputs": [],
   "source": [
    "#Availability per step\n",
    "def fkpi11 (df):\n",
    "    total_elec = df['elect-usage'] + df['prod-hh'] + df['csp-prod']\n",
    "    total_re = df['prod-hh'] + df['csp-prod']\n",
    "    kpi1 = total_re / total_elec * 100 \n",
    "    return kpi1"
   ]
  },
  {
   "cell_type": "code",
   "execution_count": 11,
   "id": "94231870",
   "metadata": {},
   "outputs": [
    {
     "data": {
      "text/plain": [
       "2.0253319944247865"
      ]
     },
     "execution_count": 11,
     "metadata": {},
     "output_type": "execute_result"
    },
    {
     "data": {
      "text/html": [
       "<div>\n",
       "<style scoped>\n",
       "    .dataframe tbody tr th:only-of-type {\n",
       "        vertical-align: middle;\n",
       "    }\n",
       "\n",
       "    .dataframe tbody tr th {\n",
       "        vertical-align: top;\n",
       "    }\n",
       "\n",
       "    .dataframe thead th {\n",
       "        text-align: right;\n",
       "    }\n",
       "</style>\n",
       "<table border=\"1\" class=\"dataframe\">\n",
       "  <thead>\n",
       "    <tr style=\"text-align: right;\">\n",
       "      <th></th>\n",
       "      <th>[run number]</th>\n",
       "      <th>region</th>\n",
       "      <th>#-developers</th>\n",
       "      <th>#-households</th>\n",
       "      <th>MW-block-init-kW-res</th>\n",
       "      <th>MW-block-init-kW-com</th>\n",
       "      <th>e-price-effect</th>\n",
       "      <th>csp-true</th>\n",
       "      <th>tick</th>\n",
       "      <th>total-elec-bill</th>\n",
       "      <th>total-proj-cost</th>\n",
       "      <th>elect-usage</th>\n",
       "      <th>prod-hh</th>\n",
       "      <th>csp-prod</th>\n",
       "      <th>emissions-hh</th>\n",
       "      <th>#-hh-rpv</th>\n",
       "      <th>#-hh-csp</th>\n",
       "      <th>able-to-cs</th>\n",
       "      <th>pos-npv</th>\n",
       "      <th>pos-savings</th>\n",
       "      <th>avg-age</th>\n",
       "      <th>avg-income</th>\n",
       "      <th>avg-education</th>\n",
       "      <th>avg-savings</th>\n",
       "      <th>developers</th>\n",
       "      <th>estimated profit developers</th>\n",
       "      <th>runs</th>\n",
       "      <th>Availability</th>\n",
       "    </tr>\n",
       "  </thead>\n",
       "  <tbody>\n",
       "    <tr>\n",
       "      <th>0</th>\n",
       "      <td>1</td>\n",
       "      <td>ConEd</td>\n",
       "      <td>0</td>\n",
       "      <td>2000</td>\n",
       "      <td>150</td>\n",
       "      <td>120</td>\n",
       "      <td>False</td>\n",
       "      <td>False</td>\n",
       "      <td>0</td>\n",
       "      <td>0.000000</td>\n",
       "      <td>0.0</td>\n",
       "      <td>450984.402090</td>\n",
       "      <td>0.000000</td>\n",
       "      <td>0</td>\n",
       "      <td>1.241885e+08</td>\n",
       "      <td>0</td>\n",
       "      <td>0</td>\n",
       "      <td>0</td>\n",
       "      <td>0</td>\n",
       "      <td>0</td>\n",
       "      <td>-0.001471</td>\n",
       "      <td>-0.002545</td>\n",
       "      <td>-0.011637</td>\n",
       "      <td>0.000000</td>\n",
       "      <td>0</td>\n",
       "      <td>0</td>\n",
       "      <td>50</td>\n",
       "      <td>0.000000</td>\n",
       "    </tr>\n",
       "    <tr>\n",
       "      <th>1</th>\n",
       "      <td>5</td>\n",
       "      <td>ConEd</td>\n",
       "      <td>0</td>\n",
       "      <td>2000</td>\n",
       "      <td>150</td>\n",
       "      <td>120</td>\n",
       "      <td>False</td>\n",
       "      <td>False</td>\n",
       "      <td>0</td>\n",
       "      <td>0.000000</td>\n",
       "      <td>0.0</td>\n",
       "      <td>449669.770371</td>\n",
       "      <td>0.000000</td>\n",
       "      <td>0</td>\n",
       "      <td>1.238265e+08</td>\n",
       "      <td>0</td>\n",
       "      <td>0</td>\n",
       "      <td>0</td>\n",
       "      <td>0</td>\n",
       "      <td>0</td>\n",
       "      <td>0.003402</td>\n",
       "      <td>-0.016277</td>\n",
       "      <td>-0.022468</td>\n",
       "      <td>0.000000</td>\n",
       "      <td>0</td>\n",
       "      <td>0</td>\n",
       "      <td>50</td>\n",
       "      <td>0.000000</td>\n",
       "    </tr>\n",
       "    <tr>\n",
       "      <th>2</th>\n",
       "      <td>2</td>\n",
       "      <td>ConEd</td>\n",
       "      <td>0</td>\n",
       "      <td>2000</td>\n",
       "      <td>150</td>\n",
       "      <td>120</td>\n",
       "      <td>False</td>\n",
       "      <td>False</td>\n",
       "      <td>0</td>\n",
       "      <td>0.000000</td>\n",
       "      <td>0.0</td>\n",
       "      <td>451232.803565</td>\n",
       "      <td>0.000000</td>\n",
       "      <td>0</td>\n",
       "      <td>1.242569e+08</td>\n",
       "      <td>0</td>\n",
       "      <td>0</td>\n",
       "      <td>0</td>\n",
       "      <td>0</td>\n",
       "      <td>0</td>\n",
       "      <td>-0.008697</td>\n",
       "      <td>0.007906</td>\n",
       "      <td>0.011332</td>\n",
       "      <td>0.000000</td>\n",
       "      <td>0</td>\n",
       "      <td>0</td>\n",
       "      <td>50</td>\n",
       "      <td>0.000000</td>\n",
       "    </tr>\n",
       "    <tr>\n",
       "      <th>3</th>\n",
       "      <td>6</td>\n",
       "      <td>ConEd</td>\n",
       "      <td>0</td>\n",
       "      <td>2000</td>\n",
       "      <td>150</td>\n",
       "      <td>120</td>\n",
       "      <td>False</td>\n",
       "      <td>False</td>\n",
       "      <td>0</td>\n",
       "      <td>0.000000</td>\n",
       "      <td>0.0</td>\n",
       "      <td>444790.562183</td>\n",
       "      <td>0.000000</td>\n",
       "      <td>0</td>\n",
       "      <td>1.224829e+08</td>\n",
       "      <td>0</td>\n",
       "      <td>0</td>\n",
       "      <td>0</td>\n",
       "      <td>0</td>\n",
       "      <td>0</td>\n",
       "      <td>-0.031537</td>\n",
       "      <td>-0.023024</td>\n",
       "      <td>-0.032987</td>\n",
       "      <td>0.000000</td>\n",
       "      <td>0</td>\n",
       "      <td>0</td>\n",
       "      <td>50</td>\n",
       "      <td>0.000000</td>\n",
       "    </tr>\n",
       "    <tr>\n",
       "      <th>4</th>\n",
       "      <td>1</td>\n",
       "      <td>ConEd</td>\n",
       "      <td>0</td>\n",
       "      <td>2000</td>\n",
       "      <td>150</td>\n",
       "      <td>120</td>\n",
       "      <td>False</td>\n",
       "      <td>False</td>\n",
       "      <td>1</td>\n",
       "      <td>101020.506068</td>\n",
       "      <td>0.0</td>\n",
       "      <td>450984.402090</td>\n",
       "      <td>0.000000</td>\n",
       "      <td>0</td>\n",
       "      <td>1.241885e+08</td>\n",
       "      <td>0</td>\n",
       "      <td>0</td>\n",
       "      <td>0</td>\n",
       "      <td>0</td>\n",
       "      <td>629</td>\n",
       "      <td>-0.001471</td>\n",
       "      <td>-0.002545</td>\n",
       "      <td>-0.011637</td>\n",
       "      <td>4217.126494</td>\n",
       "      <td>0</td>\n",
       "      <td>0</td>\n",
       "      <td>50</td>\n",
       "      <td>0.000000</td>\n",
       "    </tr>\n",
       "    <tr>\n",
       "      <th>...</th>\n",
       "      <td>...</td>\n",
       "      <td>...</td>\n",
       "      <td>...</td>\n",
       "      <td>...</td>\n",
       "      <td>...</td>\n",
       "      <td>...</td>\n",
       "      <td>...</td>\n",
       "      <td>...</td>\n",
       "      <td>...</td>\n",
       "      <td>...</td>\n",
       "      <td>...</td>\n",
       "      <td>...</td>\n",
       "      <td>...</td>\n",
       "      <td>...</td>\n",
       "      <td>...</td>\n",
       "      <td>...</td>\n",
       "      <td>...</td>\n",
       "      <td>...</td>\n",
       "      <td>...</td>\n",
       "      <td>...</td>\n",
       "      <td>...</td>\n",
       "      <td>...</td>\n",
       "      <td>...</td>\n",
       "      <td>...</td>\n",
       "      <td>...</td>\n",
       "      <td>...</td>\n",
       "      <td>...</td>\n",
       "      <td>...</td>\n",
       "    </tr>\n",
       "    <tr>\n",
       "      <th>260495</th>\n",
       "      <td>500</td>\n",
       "      <td>ConEd</td>\n",
       "      <td>0</td>\n",
       "      <td>2000</td>\n",
       "      <td>150</td>\n",
       "      <td>120</td>\n",
       "      <td>False</td>\n",
       "      <td>False</td>\n",
       "      <td>516</td>\n",
       "      <td>94095.550566</td>\n",
       "      <td>0.0</td>\n",
       "      <td>434306.845245</td>\n",
       "      <td>14237.423077</td>\n",
       "      <td>0</td>\n",
       "      <td>1.201797e+08</td>\n",
       "      <td>177</td>\n",
       "      <td>0</td>\n",
       "      <td>0</td>\n",
       "      <td>299</td>\n",
       "      <td>446</td>\n",
       "      <td>0.011941</td>\n",
       "      <td>-0.014909</td>\n",
       "      <td>-0.002271</td>\n",
       "      <td>5276.983619</td>\n",
       "      <td>0</td>\n",
       "      <td>0</td>\n",
       "      <td>500</td>\n",
       "      <td>3.174140</td>\n",
       "    </tr>\n",
       "    <tr>\n",
       "      <th>260496</th>\n",
       "      <td>500</td>\n",
       "      <td>ConEd</td>\n",
       "      <td>0</td>\n",
       "      <td>2000</td>\n",
       "      <td>150</td>\n",
       "      <td>120</td>\n",
       "      <td>False</td>\n",
       "      <td>False</td>\n",
       "      <td>517</td>\n",
       "      <td>94095.550566</td>\n",
       "      <td>0.0</td>\n",
       "      <td>434306.845245</td>\n",
       "      <td>14237.423077</td>\n",
       "      <td>0</td>\n",
       "      <td>1.201797e+08</td>\n",
       "      <td>177</td>\n",
       "      <td>0</td>\n",
       "      <td>0</td>\n",
       "      <td>299</td>\n",
       "      <td>446</td>\n",
       "      <td>0.011941</td>\n",
       "      <td>-0.014909</td>\n",
       "      <td>-0.002271</td>\n",
       "      <td>5279.300423</td>\n",
       "      <td>0</td>\n",
       "      <td>0</td>\n",
       "      <td>500</td>\n",
       "      <td>3.174140</td>\n",
       "    </tr>\n",
       "    <tr>\n",
       "      <th>260497</th>\n",
       "      <td>500</td>\n",
       "      <td>ConEd</td>\n",
       "      <td>0</td>\n",
       "      <td>2000</td>\n",
       "      <td>150</td>\n",
       "      <td>120</td>\n",
       "      <td>False</td>\n",
       "      <td>False</td>\n",
       "      <td>518</td>\n",
       "      <td>94095.550566</td>\n",
       "      <td>0.0</td>\n",
       "      <td>434306.845245</td>\n",
       "      <td>14237.423077</td>\n",
       "      <td>0</td>\n",
       "      <td>1.201797e+08</td>\n",
       "      <td>177</td>\n",
       "      <td>0</td>\n",
       "      <td>0</td>\n",
       "      <td>299</td>\n",
       "      <td>446</td>\n",
       "      <td>0.011941</td>\n",
       "      <td>-0.014909</td>\n",
       "      <td>-0.002271</td>\n",
       "      <td>5281.620395</td>\n",
       "      <td>0</td>\n",
       "      <td>0</td>\n",
       "      <td>500</td>\n",
       "      <td>3.174140</td>\n",
       "    </tr>\n",
       "    <tr>\n",
       "      <th>260498</th>\n",
       "      <td>500</td>\n",
       "      <td>ConEd</td>\n",
       "      <td>0</td>\n",
       "      <td>2000</td>\n",
       "      <td>150</td>\n",
       "      <td>120</td>\n",
       "      <td>False</td>\n",
       "      <td>False</td>\n",
       "      <td>519</td>\n",
       "      <td>94095.550566</td>\n",
       "      <td>0.0</td>\n",
       "      <td>434306.845245</td>\n",
       "      <td>14237.423077</td>\n",
       "      <td>0</td>\n",
       "      <td>1.201797e+08</td>\n",
       "      <td>177</td>\n",
       "      <td>0</td>\n",
       "      <td>0</td>\n",
       "      <td>299</td>\n",
       "      <td>446</td>\n",
       "      <td>0.011941</td>\n",
       "      <td>-0.014909</td>\n",
       "      <td>-0.002271</td>\n",
       "      <td>5283.943441</td>\n",
       "      <td>0</td>\n",
       "      <td>0</td>\n",
       "      <td>500</td>\n",
       "      <td>3.174140</td>\n",
       "    </tr>\n",
       "    <tr>\n",
       "      <th>260499</th>\n",
       "      <td>500</td>\n",
       "      <td>ConEd</td>\n",
       "      <td>0</td>\n",
       "      <td>2000</td>\n",
       "      <td>150</td>\n",
       "      <td>120</td>\n",
       "      <td>False</td>\n",
       "      <td>False</td>\n",
       "      <td>520</td>\n",
       "      <td>94095.550566</td>\n",
       "      <td>0.0</td>\n",
       "      <td>434099.960629</td>\n",
       "      <td>14444.307692</td>\n",
       "      <td>0</td>\n",
       "      <td>1.201797e+08</td>\n",
       "      <td>178</td>\n",
       "      <td>0</td>\n",
       "      <td>0</td>\n",
       "      <td>299</td>\n",
       "      <td>447</td>\n",
       "      <td>0.011941</td>\n",
       "      <td>-0.014909</td>\n",
       "      <td>-0.002271</td>\n",
       "      <td>5286.269465</td>\n",
       "      <td>0</td>\n",
       "      <td>0</td>\n",
       "      <td>500</td>\n",
       "      <td>3.220264</td>\n",
       "    </tr>\n",
       "  </tbody>\n",
       "</table>\n",
       "<p>442850 rows × 28 columns</p>\n",
       "</div>"
      ],
      "text/plain": [
       "        [run number] region  #-developers  #-households  MW-block-init-kW-res  \\\n",
       "0                  1  ConEd             0          2000                   150   \n",
       "1                  5  ConEd             0          2000                   150   \n",
       "2                  2  ConEd             0          2000                   150   \n",
       "3                  6  ConEd             0          2000                   150   \n",
       "4                  1  ConEd             0          2000                   150   \n",
       "...              ...    ...           ...           ...                   ...   \n",
       "260495           500  ConEd             0          2000                   150   \n",
       "260496           500  ConEd             0          2000                   150   \n",
       "260497           500  ConEd             0          2000                   150   \n",
       "260498           500  ConEd             0          2000                   150   \n",
       "260499           500  ConEd             0          2000                   150   \n",
       "\n",
       "        MW-block-init-kW-com  e-price-effect  csp-true  tick  total-elec-bill  \\\n",
       "0                        120           False     False     0         0.000000   \n",
       "1                        120           False     False     0         0.000000   \n",
       "2                        120           False     False     0         0.000000   \n",
       "3                        120           False     False     0         0.000000   \n",
       "4                        120           False     False     1    101020.506068   \n",
       "...                      ...             ...       ...   ...              ...   \n",
       "260495                   120           False     False   516     94095.550566   \n",
       "260496                   120           False     False   517     94095.550566   \n",
       "260497                   120           False     False   518     94095.550566   \n",
       "260498                   120           False     False   519     94095.550566   \n",
       "260499                   120           False     False   520     94095.550566   \n",
       "\n",
       "        total-proj-cost    elect-usage       prod-hh  csp-prod  emissions-hh  \\\n",
       "0                   0.0  450984.402090      0.000000         0  1.241885e+08   \n",
       "1                   0.0  449669.770371      0.000000         0  1.238265e+08   \n",
       "2                   0.0  451232.803565      0.000000         0  1.242569e+08   \n",
       "3                   0.0  444790.562183      0.000000         0  1.224829e+08   \n",
       "4                   0.0  450984.402090      0.000000         0  1.241885e+08   \n",
       "...                 ...            ...           ...       ...           ...   \n",
       "260495              0.0  434306.845245  14237.423077         0  1.201797e+08   \n",
       "260496              0.0  434306.845245  14237.423077         0  1.201797e+08   \n",
       "260497              0.0  434306.845245  14237.423077         0  1.201797e+08   \n",
       "260498              0.0  434306.845245  14237.423077         0  1.201797e+08   \n",
       "260499              0.0  434099.960629  14444.307692         0  1.201797e+08   \n",
       "\n",
       "        #-hh-rpv  #-hh-csp  able-to-cs  pos-npv  pos-savings   avg-age  \\\n",
       "0              0         0           0        0            0 -0.001471   \n",
       "1              0         0           0        0            0  0.003402   \n",
       "2              0         0           0        0            0 -0.008697   \n",
       "3              0         0           0        0            0 -0.031537   \n",
       "4              0         0           0        0          629 -0.001471   \n",
       "...          ...       ...         ...      ...          ...       ...   \n",
       "260495       177         0           0      299          446  0.011941   \n",
       "260496       177         0           0      299          446  0.011941   \n",
       "260497       177         0           0      299          446  0.011941   \n",
       "260498       177         0           0      299          446  0.011941   \n",
       "260499       178         0           0      299          447  0.011941   \n",
       "\n",
       "        avg-income  avg-education  avg-savings  developers  \\\n",
       "0        -0.002545      -0.011637     0.000000           0   \n",
       "1        -0.016277      -0.022468     0.000000           0   \n",
       "2         0.007906       0.011332     0.000000           0   \n",
       "3        -0.023024      -0.032987     0.000000           0   \n",
       "4        -0.002545      -0.011637  4217.126494           0   \n",
       "...            ...            ...          ...         ...   \n",
       "260495   -0.014909      -0.002271  5276.983619           0   \n",
       "260496   -0.014909      -0.002271  5279.300423           0   \n",
       "260497   -0.014909      -0.002271  5281.620395           0   \n",
       "260498   -0.014909      -0.002271  5283.943441           0   \n",
       "260499   -0.014909      -0.002271  5286.269465           0   \n",
       "\n",
       "        estimated profit developers  runs  Availability  \n",
       "0                                 0    50      0.000000  \n",
       "1                                 0    50      0.000000  \n",
       "2                                 0    50      0.000000  \n",
       "3                                 0    50      0.000000  \n",
       "4                                 0    50      0.000000  \n",
       "...                             ...   ...           ...  \n",
       "260495                            0   500      3.174140  \n",
       "260496                            0   500      3.174140  \n",
       "260497                            0   500      3.174140  \n",
       "260498                            0   500      3.174140  \n",
       "260499                            0   500      3.220264  \n",
       "\n",
       "[442850 rows x 28 columns]"
      ]
     },
     "execution_count": 11,
     "metadata": {},
     "output_type": "execute_result"
    }
   ],
   "source": [
    "df['Availability'] = df.apply(fkpi11, axis=1)\n",
    "df['Availability'].mean()\n",
    "df"
   ]
  },
  {
   "cell_type": "code",
   "execution_count": 12,
   "id": "afd7eb11",
   "metadata": {},
   "outputs": [],
   "source": [
    "#Affordability per step\n",
    "def fkpi21 (df):\n",
    "    total_inv = df['total-proj-cost']\n",
    "    total_elec_bill = df['total-elec-bill']\n",
    "    avg_cost = (total_inv + total_elec_bill)\n",
    "    return avg_cost"
   ]
  },
  {
   "cell_type": "code",
   "execution_count": 13,
   "id": "9f5b17f5",
   "metadata": {},
   "outputs": [
    {
     "data": {
      "text/plain": [
       "97727.36464880822"
      ]
     },
     "execution_count": 13,
     "metadata": {},
     "output_type": "execute_result"
    }
   ],
   "source": [
    "df['Affordability'] = df.apply(fkpi21, axis=1)\n",
    "df['Affordability'].mean()"
   ]
  },
  {
   "cell_type": "code",
   "execution_count": 14,
   "id": "d0ab4199",
   "metadata": {},
   "outputs": [],
   "source": [
    "#Accessibility per step\n",
    "def fkpi31 (df):\n",
    "    total_elec = df['elect-usage'] + df['prod-hh'] + df['csp-prod']\n",
    "    total_clas = df['elect-usage']\n",
    "    total_rpv = df['prod-hh']\n",
    "    total_csp = df['csp-prod']\n",
    "    perc_clas = total_clas / total_elec\n",
    "    perc_rpv = total_rpv / total_elec\n",
    "    perc_csp = total_csp / total_elec\n",
    "    if total_csp != 0 and total_rpv != 0:\n",
    "        div = -1 * ((perc_clas * np.log(perc_clas)) + (perc_rpv * np.log(perc_rpv)) + (perc_csp * np.log(perc_csp)))\n",
    "    if total_csp <= 0 and total_rpv > 0:\n",
    "        div = -1 * ((perc_clas * np.log(perc_clas)) + (perc_rpv * np.log(perc_rpv)))\n",
    "    if total_rpv <= 0 and total_csp > 0:\n",
    "        div = -1 * ((perc_clas * np.log(perc_clas)) + (perc_csp * np.log(perc_csp)))\n",
    "    if total_rpv <= 0 and total_csp <= 0 :\n",
    "        div = 0\n",
    "    \n",
    "    return div  "
   ]
  },
  {
   "cell_type": "code",
   "execution_count": 15,
   "id": "36becd64",
   "metadata": {},
   "outputs": [
    {
     "data": {
      "text/plain": [
       "0.0971763578641389"
      ]
     },
     "execution_count": 15,
     "metadata": {},
     "output_type": "execute_result"
    },
    {
     "data": {
      "text/html": [
       "<div>\n",
       "<style scoped>\n",
       "    .dataframe tbody tr th:only-of-type {\n",
       "        vertical-align: middle;\n",
       "    }\n",
       "\n",
       "    .dataframe tbody tr th {\n",
       "        vertical-align: top;\n",
       "    }\n",
       "\n",
       "    .dataframe thead th {\n",
       "        text-align: right;\n",
       "    }\n",
       "</style>\n",
       "<table border=\"1\" class=\"dataframe\">\n",
       "  <thead>\n",
       "    <tr style=\"text-align: right;\">\n",
       "      <th></th>\n",
       "      <th>[run number]</th>\n",
       "      <th>region</th>\n",
       "      <th>#-developers</th>\n",
       "      <th>#-households</th>\n",
       "      <th>MW-block-init-kW-res</th>\n",
       "      <th>MW-block-init-kW-com</th>\n",
       "      <th>e-price-effect</th>\n",
       "      <th>csp-true</th>\n",
       "      <th>tick</th>\n",
       "      <th>total-elec-bill</th>\n",
       "      <th>total-proj-cost</th>\n",
       "      <th>elect-usage</th>\n",
       "      <th>prod-hh</th>\n",
       "      <th>csp-prod</th>\n",
       "      <th>emissions-hh</th>\n",
       "      <th>#-hh-rpv</th>\n",
       "      <th>#-hh-csp</th>\n",
       "      <th>able-to-cs</th>\n",
       "      <th>pos-npv</th>\n",
       "      <th>pos-savings</th>\n",
       "      <th>avg-age</th>\n",
       "      <th>avg-income</th>\n",
       "      <th>avg-education</th>\n",
       "      <th>avg-savings</th>\n",
       "      <th>developers</th>\n",
       "      <th>estimated profit developers</th>\n",
       "      <th>runs</th>\n",
       "      <th>Availability</th>\n",
       "      <th>Affordability</th>\n",
       "      <th>Accessibility</th>\n",
       "    </tr>\n",
       "  </thead>\n",
       "  <tbody>\n",
       "    <tr>\n",
       "      <th>0</th>\n",
       "      <td>1</td>\n",
       "      <td>ConEd</td>\n",
       "      <td>0</td>\n",
       "      <td>2000</td>\n",
       "      <td>150</td>\n",
       "      <td>120</td>\n",
       "      <td>False</td>\n",
       "      <td>False</td>\n",
       "      <td>0</td>\n",
       "      <td>0.000000</td>\n",
       "      <td>0.0</td>\n",
       "      <td>450984.402090</td>\n",
       "      <td>0.000000</td>\n",
       "      <td>0</td>\n",
       "      <td>1.241885e+08</td>\n",
       "      <td>0</td>\n",
       "      <td>0</td>\n",
       "      <td>0</td>\n",
       "      <td>0</td>\n",
       "      <td>0</td>\n",
       "      <td>-0.001471</td>\n",
       "      <td>-0.002545</td>\n",
       "      <td>-0.011637</td>\n",
       "      <td>0.000000</td>\n",
       "      <td>0</td>\n",
       "      <td>0</td>\n",
       "      <td>50</td>\n",
       "      <td>0.000000</td>\n",
       "      <td>0.000000</td>\n",
       "      <td>0.000000</td>\n",
       "    </tr>\n",
       "    <tr>\n",
       "      <th>1</th>\n",
       "      <td>5</td>\n",
       "      <td>ConEd</td>\n",
       "      <td>0</td>\n",
       "      <td>2000</td>\n",
       "      <td>150</td>\n",
       "      <td>120</td>\n",
       "      <td>False</td>\n",
       "      <td>False</td>\n",
       "      <td>0</td>\n",
       "      <td>0.000000</td>\n",
       "      <td>0.0</td>\n",
       "      <td>449669.770371</td>\n",
       "      <td>0.000000</td>\n",
       "      <td>0</td>\n",
       "      <td>1.238265e+08</td>\n",
       "      <td>0</td>\n",
       "      <td>0</td>\n",
       "      <td>0</td>\n",
       "      <td>0</td>\n",
       "      <td>0</td>\n",
       "      <td>0.003402</td>\n",
       "      <td>-0.016277</td>\n",
       "      <td>-0.022468</td>\n",
       "      <td>0.000000</td>\n",
       "      <td>0</td>\n",
       "      <td>0</td>\n",
       "      <td>50</td>\n",
       "      <td>0.000000</td>\n",
       "      <td>0.000000</td>\n",
       "      <td>0.000000</td>\n",
       "    </tr>\n",
       "    <tr>\n",
       "      <th>2</th>\n",
       "      <td>2</td>\n",
       "      <td>ConEd</td>\n",
       "      <td>0</td>\n",
       "      <td>2000</td>\n",
       "      <td>150</td>\n",
       "      <td>120</td>\n",
       "      <td>False</td>\n",
       "      <td>False</td>\n",
       "      <td>0</td>\n",
       "      <td>0.000000</td>\n",
       "      <td>0.0</td>\n",
       "      <td>451232.803565</td>\n",
       "      <td>0.000000</td>\n",
       "      <td>0</td>\n",
       "      <td>1.242569e+08</td>\n",
       "      <td>0</td>\n",
       "      <td>0</td>\n",
       "      <td>0</td>\n",
       "      <td>0</td>\n",
       "      <td>0</td>\n",
       "      <td>-0.008697</td>\n",
       "      <td>0.007906</td>\n",
       "      <td>0.011332</td>\n",
       "      <td>0.000000</td>\n",
       "      <td>0</td>\n",
       "      <td>0</td>\n",
       "      <td>50</td>\n",
       "      <td>0.000000</td>\n",
       "      <td>0.000000</td>\n",
       "      <td>0.000000</td>\n",
       "    </tr>\n",
       "    <tr>\n",
       "      <th>3</th>\n",
       "      <td>6</td>\n",
       "      <td>ConEd</td>\n",
       "      <td>0</td>\n",
       "      <td>2000</td>\n",
       "      <td>150</td>\n",
       "      <td>120</td>\n",
       "      <td>False</td>\n",
       "      <td>False</td>\n",
       "      <td>0</td>\n",
       "      <td>0.000000</td>\n",
       "      <td>0.0</td>\n",
       "      <td>444790.562183</td>\n",
       "      <td>0.000000</td>\n",
       "      <td>0</td>\n",
       "      <td>1.224829e+08</td>\n",
       "      <td>0</td>\n",
       "      <td>0</td>\n",
       "      <td>0</td>\n",
       "      <td>0</td>\n",
       "      <td>0</td>\n",
       "      <td>-0.031537</td>\n",
       "      <td>-0.023024</td>\n",
       "      <td>-0.032987</td>\n",
       "      <td>0.000000</td>\n",
       "      <td>0</td>\n",
       "      <td>0</td>\n",
       "      <td>50</td>\n",
       "      <td>0.000000</td>\n",
       "      <td>0.000000</td>\n",
       "      <td>0.000000</td>\n",
       "    </tr>\n",
       "    <tr>\n",
       "      <th>4</th>\n",
       "      <td>1</td>\n",
       "      <td>ConEd</td>\n",
       "      <td>0</td>\n",
       "      <td>2000</td>\n",
       "      <td>150</td>\n",
       "      <td>120</td>\n",
       "      <td>False</td>\n",
       "      <td>False</td>\n",
       "      <td>1</td>\n",
       "      <td>101020.506068</td>\n",
       "      <td>0.0</td>\n",
       "      <td>450984.402090</td>\n",
       "      <td>0.000000</td>\n",
       "      <td>0</td>\n",
       "      <td>1.241885e+08</td>\n",
       "      <td>0</td>\n",
       "      <td>0</td>\n",
       "      <td>0</td>\n",
       "      <td>0</td>\n",
       "      <td>629</td>\n",
       "      <td>-0.001471</td>\n",
       "      <td>-0.002545</td>\n",
       "      <td>-0.011637</td>\n",
       "      <td>4217.126494</td>\n",
       "      <td>0</td>\n",
       "      <td>0</td>\n",
       "      <td>50</td>\n",
       "      <td>0.000000</td>\n",
       "      <td>101020.506068</td>\n",
       "      <td>0.000000</td>\n",
       "    </tr>\n",
       "    <tr>\n",
       "      <th>...</th>\n",
       "      <td>...</td>\n",
       "      <td>...</td>\n",
       "      <td>...</td>\n",
       "      <td>...</td>\n",
       "      <td>...</td>\n",
       "      <td>...</td>\n",
       "      <td>...</td>\n",
       "      <td>...</td>\n",
       "      <td>...</td>\n",
       "      <td>...</td>\n",
       "      <td>...</td>\n",
       "      <td>...</td>\n",
       "      <td>...</td>\n",
       "      <td>...</td>\n",
       "      <td>...</td>\n",
       "      <td>...</td>\n",
       "      <td>...</td>\n",
       "      <td>...</td>\n",
       "      <td>...</td>\n",
       "      <td>...</td>\n",
       "      <td>...</td>\n",
       "      <td>...</td>\n",
       "      <td>...</td>\n",
       "      <td>...</td>\n",
       "      <td>...</td>\n",
       "      <td>...</td>\n",
       "      <td>...</td>\n",
       "      <td>...</td>\n",
       "      <td>...</td>\n",
       "      <td>...</td>\n",
       "    </tr>\n",
       "    <tr>\n",
       "      <th>260495</th>\n",
       "      <td>500</td>\n",
       "      <td>ConEd</td>\n",
       "      <td>0</td>\n",
       "      <td>2000</td>\n",
       "      <td>150</td>\n",
       "      <td>120</td>\n",
       "      <td>False</td>\n",
       "      <td>False</td>\n",
       "      <td>516</td>\n",
       "      <td>94095.550566</td>\n",
       "      <td>0.0</td>\n",
       "      <td>434306.845245</td>\n",
       "      <td>14237.423077</td>\n",
       "      <td>0</td>\n",
       "      <td>1.201797e+08</td>\n",
       "      <td>177</td>\n",
       "      <td>0</td>\n",
       "      <td>0</td>\n",
       "      <td>299</td>\n",
       "      <td>446</td>\n",
       "      <td>0.011941</td>\n",
       "      <td>-0.014909</td>\n",
       "      <td>-0.002271</td>\n",
       "      <td>5276.983619</td>\n",
       "      <td>0</td>\n",
       "      <td>0</td>\n",
       "      <td>500</td>\n",
       "      <td>3.174140</td>\n",
       "      <td>94095.550566</td>\n",
       "      <td>0.140744</td>\n",
       "    </tr>\n",
       "    <tr>\n",
       "      <th>260496</th>\n",
       "      <td>500</td>\n",
       "      <td>ConEd</td>\n",
       "      <td>0</td>\n",
       "      <td>2000</td>\n",
       "      <td>150</td>\n",
       "      <td>120</td>\n",
       "      <td>False</td>\n",
       "      <td>False</td>\n",
       "      <td>517</td>\n",
       "      <td>94095.550566</td>\n",
       "      <td>0.0</td>\n",
       "      <td>434306.845245</td>\n",
       "      <td>14237.423077</td>\n",
       "      <td>0</td>\n",
       "      <td>1.201797e+08</td>\n",
       "      <td>177</td>\n",
       "      <td>0</td>\n",
       "      <td>0</td>\n",
       "      <td>299</td>\n",
       "      <td>446</td>\n",
       "      <td>0.011941</td>\n",
       "      <td>-0.014909</td>\n",
       "      <td>-0.002271</td>\n",
       "      <td>5279.300423</td>\n",
       "      <td>0</td>\n",
       "      <td>0</td>\n",
       "      <td>500</td>\n",
       "      <td>3.174140</td>\n",
       "      <td>94095.550566</td>\n",
       "      <td>0.140744</td>\n",
       "    </tr>\n",
       "    <tr>\n",
       "      <th>260497</th>\n",
       "      <td>500</td>\n",
       "      <td>ConEd</td>\n",
       "      <td>0</td>\n",
       "      <td>2000</td>\n",
       "      <td>150</td>\n",
       "      <td>120</td>\n",
       "      <td>False</td>\n",
       "      <td>False</td>\n",
       "      <td>518</td>\n",
       "      <td>94095.550566</td>\n",
       "      <td>0.0</td>\n",
       "      <td>434306.845245</td>\n",
       "      <td>14237.423077</td>\n",
       "      <td>0</td>\n",
       "      <td>1.201797e+08</td>\n",
       "      <td>177</td>\n",
       "      <td>0</td>\n",
       "      <td>0</td>\n",
       "      <td>299</td>\n",
       "      <td>446</td>\n",
       "      <td>0.011941</td>\n",
       "      <td>-0.014909</td>\n",
       "      <td>-0.002271</td>\n",
       "      <td>5281.620395</td>\n",
       "      <td>0</td>\n",
       "      <td>0</td>\n",
       "      <td>500</td>\n",
       "      <td>3.174140</td>\n",
       "      <td>94095.550566</td>\n",
       "      <td>0.140744</td>\n",
       "    </tr>\n",
       "    <tr>\n",
       "      <th>260498</th>\n",
       "      <td>500</td>\n",
       "      <td>ConEd</td>\n",
       "      <td>0</td>\n",
       "      <td>2000</td>\n",
       "      <td>150</td>\n",
       "      <td>120</td>\n",
       "      <td>False</td>\n",
       "      <td>False</td>\n",
       "      <td>519</td>\n",
       "      <td>94095.550566</td>\n",
       "      <td>0.0</td>\n",
       "      <td>434306.845245</td>\n",
       "      <td>14237.423077</td>\n",
       "      <td>0</td>\n",
       "      <td>1.201797e+08</td>\n",
       "      <td>177</td>\n",
       "      <td>0</td>\n",
       "      <td>0</td>\n",
       "      <td>299</td>\n",
       "      <td>446</td>\n",
       "      <td>0.011941</td>\n",
       "      <td>-0.014909</td>\n",
       "      <td>-0.002271</td>\n",
       "      <td>5283.943441</td>\n",
       "      <td>0</td>\n",
       "      <td>0</td>\n",
       "      <td>500</td>\n",
       "      <td>3.174140</td>\n",
       "      <td>94095.550566</td>\n",
       "      <td>0.140744</td>\n",
       "    </tr>\n",
       "    <tr>\n",
       "      <th>260499</th>\n",
       "      <td>500</td>\n",
       "      <td>ConEd</td>\n",
       "      <td>0</td>\n",
       "      <td>2000</td>\n",
       "      <td>150</td>\n",
       "      <td>120</td>\n",
       "      <td>False</td>\n",
       "      <td>False</td>\n",
       "      <td>520</td>\n",
       "      <td>94095.550566</td>\n",
       "      <td>0.0</td>\n",
       "      <td>434099.960629</td>\n",
       "      <td>14444.307692</td>\n",
       "      <td>0</td>\n",
       "      <td>1.201797e+08</td>\n",
       "      <td>178</td>\n",
       "      <td>0</td>\n",
       "      <td>0</td>\n",
       "      <td>299</td>\n",
       "      <td>447</td>\n",
       "      <td>0.011941</td>\n",
       "      <td>-0.014909</td>\n",
       "      <td>-0.002271</td>\n",
       "      <td>5286.269465</td>\n",
       "      <td>0</td>\n",
       "      <td>0</td>\n",
       "      <td>500</td>\n",
       "      <td>3.220264</td>\n",
       "      <td>94095.550566</td>\n",
       "      <td>0.142317</td>\n",
       "    </tr>\n",
       "  </tbody>\n",
       "</table>\n",
       "<p>442850 rows × 30 columns</p>\n",
       "</div>"
      ],
      "text/plain": [
       "        [run number] region  #-developers  #-households  MW-block-init-kW-res  \\\n",
       "0                  1  ConEd             0          2000                   150   \n",
       "1                  5  ConEd             0          2000                   150   \n",
       "2                  2  ConEd             0          2000                   150   \n",
       "3                  6  ConEd             0          2000                   150   \n",
       "4                  1  ConEd             0          2000                   150   \n",
       "...              ...    ...           ...           ...                   ...   \n",
       "260495           500  ConEd             0          2000                   150   \n",
       "260496           500  ConEd             0          2000                   150   \n",
       "260497           500  ConEd             0          2000                   150   \n",
       "260498           500  ConEd             0          2000                   150   \n",
       "260499           500  ConEd             0          2000                   150   \n",
       "\n",
       "        MW-block-init-kW-com  e-price-effect  csp-true  tick  total-elec-bill  \\\n",
       "0                        120           False     False     0         0.000000   \n",
       "1                        120           False     False     0         0.000000   \n",
       "2                        120           False     False     0         0.000000   \n",
       "3                        120           False     False     0         0.000000   \n",
       "4                        120           False     False     1    101020.506068   \n",
       "...                      ...             ...       ...   ...              ...   \n",
       "260495                   120           False     False   516     94095.550566   \n",
       "260496                   120           False     False   517     94095.550566   \n",
       "260497                   120           False     False   518     94095.550566   \n",
       "260498                   120           False     False   519     94095.550566   \n",
       "260499                   120           False     False   520     94095.550566   \n",
       "\n",
       "        total-proj-cost    elect-usage       prod-hh  csp-prod  emissions-hh  \\\n",
       "0                   0.0  450984.402090      0.000000         0  1.241885e+08   \n",
       "1                   0.0  449669.770371      0.000000         0  1.238265e+08   \n",
       "2                   0.0  451232.803565      0.000000         0  1.242569e+08   \n",
       "3                   0.0  444790.562183      0.000000         0  1.224829e+08   \n",
       "4                   0.0  450984.402090      0.000000         0  1.241885e+08   \n",
       "...                 ...            ...           ...       ...           ...   \n",
       "260495              0.0  434306.845245  14237.423077         0  1.201797e+08   \n",
       "260496              0.0  434306.845245  14237.423077         0  1.201797e+08   \n",
       "260497              0.0  434306.845245  14237.423077         0  1.201797e+08   \n",
       "260498              0.0  434306.845245  14237.423077         0  1.201797e+08   \n",
       "260499              0.0  434099.960629  14444.307692         0  1.201797e+08   \n",
       "\n",
       "        #-hh-rpv  #-hh-csp  able-to-cs  pos-npv  pos-savings   avg-age  \\\n",
       "0              0         0           0        0            0 -0.001471   \n",
       "1              0         0           0        0            0  0.003402   \n",
       "2              0         0           0        0            0 -0.008697   \n",
       "3              0         0           0        0            0 -0.031537   \n",
       "4              0         0           0        0          629 -0.001471   \n",
       "...          ...       ...         ...      ...          ...       ...   \n",
       "260495       177         0           0      299          446  0.011941   \n",
       "260496       177         0           0      299          446  0.011941   \n",
       "260497       177         0           0      299          446  0.011941   \n",
       "260498       177         0           0      299          446  0.011941   \n",
       "260499       178         0           0      299          447  0.011941   \n",
       "\n",
       "        avg-income  avg-education  avg-savings  developers  \\\n",
       "0        -0.002545      -0.011637     0.000000           0   \n",
       "1        -0.016277      -0.022468     0.000000           0   \n",
       "2         0.007906       0.011332     0.000000           0   \n",
       "3        -0.023024      -0.032987     0.000000           0   \n",
       "4        -0.002545      -0.011637  4217.126494           0   \n",
       "...            ...            ...          ...         ...   \n",
       "260495   -0.014909      -0.002271  5276.983619           0   \n",
       "260496   -0.014909      -0.002271  5279.300423           0   \n",
       "260497   -0.014909      -0.002271  5281.620395           0   \n",
       "260498   -0.014909      -0.002271  5283.943441           0   \n",
       "260499   -0.014909      -0.002271  5286.269465           0   \n",
       "\n",
       "        estimated profit developers  runs  Availability  Affordability  \\\n",
       "0                                 0    50      0.000000       0.000000   \n",
       "1                                 0    50      0.000000       0.000000   \n",
       "2                                 0    50      0.000000       0.000000   \n",
       "3                                 0    50      0.000000       0.000000   \n",
       "4                                 0    50      0.000000  101020.506068   \n",
       "...                             ...   ...           ...            ...   \n",
       "260495                            0   500      3.174140   94095.550566   \n",
       "260496                            0   500      3.174140   94095.550566   \n",
       "260497                            0   500      3.174140   94095.550566   \n",
       "260498                            0   500      3.174140   94095.550566   \n",
       "260499                            0   500      3.220264   94095.550566   \n",
       "\n",
       "        Accessibility  \n",
       "0            0.000000  \n",
       "1            0.000000  \n",
       "2            0.000000  \n",
       "3            0.000000  \n",
       "4            0.000000  \n",
       "...               ...  \n",
       "260495       0.140744  \n",
       "260496       0.140744  \n",
       "260497       0.140744  \n",
       "260498       0.140744  \n",
       "260499       0.142317  \n",
       "\n",
       "[442850 rows x 30 columns]"
      ]
     },
     "execution_count": 15,
     "metadata": {},
     "output_type": "execute_result"
    }
   ],
   "source": [
    "df['Accessibility'] = df.apply(fkpi31, axis=1)\n",
    "df['Accessibility'].mean()\n",
    "df"
   ]
  },
  {
   "cell_type": "code",
   "execution_count": 16,
   "id": "7ad49a68",
   "metadata": {},
   "outputs": [],
   "source": [
    "#Acceptability per step\n",
    "def fkpi41 (df):\n",
    "    total_em = df['emissions-hh']\n",
    "    return total_em"
   ]
  },
  {
   "cell_type": "code",
   "execution_count": 17,
   "id": "657dfc13",
   "metadata": {},
   "outputs": [
    {
     "data": {
      "text/plain": [
       "121547968.69205534"
      ]
     },
     "execution_count": 17,
     "metadata": {},
     "output_type": "execute_result"
    }
   ],
   "source": [
    "df['Acceptability'] = df.apply(fkpi41, axis=1)\n",
    "df['Acceptability'].mean()"
   ]
  },
  {
   "cell_type": "code",
   "execution_count": 18,
   "id": "19bc57ed",
   "metadata": {},
   "outputs": [],
   "source": [
    "#New affordability per step\n",
    "def fkpi51 (df):\n",
    "    total_aff = df['#-hh-csp'] + df['pos-savings']\n",
    "    return total_aff"
   ]
  },
  {
   "cell_type": "code",
   "execution_count": 19,
   "id": "68450797",
   "metadata": {},
   "outputs": [
    {
     "data": {
      "text/plain": [
       "423.30187196567687"
      ]
     },
     "execution_count": 19,
     "metadata": {},
     "output_type": "execute_result"
    }
   ],
   "source": [
    "df['Ability'] = df.apply(fkpi51, axis=1)\n",
    "df['Ability'].mean()"
   ]
  },
  {
   "cell_type": "code",
   "execution_count": 20,
   "id": "5de51852",
   "metadata": {},
   "outputs": [],
   "source": [
    "#New acceptability per step\n",
    "def fkpi61 (df):\n",
    "    total_acc = df['pos-npv'] + df['#-hh-csp']\n",
    "    return total_acc"
   ]
  },
  {
   "cell_type": "code",
   "execution_count": 21,
   "id": "9726a537",
   "metadata": {},
   "outputs": [
    {
     "data": {
      "text/plain": [
       "307.0640645816868"
      ]
     },
     "execution_count": 21,
     "metadata": {},
     "output_type": "execute_result"
    },
    {
     "data": {
      "text/html": [
       "<div>\n",
       "<style scoped>\n",
       "    .dataframe tbody tr th:only-of-type {\n",
       "        vertical-align: middle;\n",
       "    }\n",
       "\n",
       "    .dataframe tbody tr th {\n",
       "        vertical-align: top;\n",
       "    }\n",
       "\n",
       "    .dataframe thead th {\n",
       "        text-align: right;\n",
       "    }\n",
       "</style>\n",
       "<table border=\"1\" class=\"dataframe\">\n",
       "  <thead>\n",
       "    <tr style=\"text-align: right;\">\n",
       "      <th></th>\n",
       "      <th>[run number]</th>\n",
       "      <th>region</th>\n",
       "      <th>#-developers</th>\n",
       "      <th>#-households</th>\n",
       "      <th>MW-block-init-kW-res</th>\n",
       "      <th>MW-block-init-kW-com</th>\n",
       "      <th>e-price-effect</th>\n",
       "      <th>csp-true</th>\n",
       "      <th>tick</th>\n",
       "      <th>total-elec-bill</th>\n",
       "      <th>total-proj-cost</th>\n",
       "      <th>elect-usage</th>\n",
       "      <th>prod-hh</th>\n",
       "      <th>csp-prod</th>\n",
       "      <th>emissions-hh</th>\n",
       "      <th>#-hh-rpv</th>\n",
       "      <th>#-hh-csp</th>\n",
       "      <th>able-to-cs</th>\n",
       "      <th>pos-npv</th>\n",
       "      <th>pos-savings</th>\n",
       "      <th>avg-age</th>\n",
       "      <th>avg-income</th>\n",
       "      <th>avg-education</th>\n",
       "      <th>avg-savings</th>\n",
       "      <th>developers</th>\n",
       "      <th>estimated profit developers</th>\n",
       "      <th>runs</th>\n",
       "      <th>Availability</th>\n",
       "      <th>Affordability</th>\n",
       "      <th>Accessibility</th>\n",
       "      <th>Acceptability</th>\n",
       "      <th>Ability</th>\n",
       "      <th>Appeal</th>\n",
       "    </tr>\n",
       "  </thead>\n",
       "  <tbody>\n",
       "    <tr>\n",
       "      <th>0</th>\n",
       "      <td>1</td>\n",
       "      <td>ConEd</td>\n",
       "      <td>0</td>\n",
       "      <td>2000</td>\n",
       "      <td>150</td>\n",
       "      <td>120</td>\n",
       "      <td>False</td>\n",
       "      <td>False</td>\n",
       "      <td>0</td>\n",
       "      <td>0.000000</td>\n",
       "      <td>0.0</td>\n",
       "      <td>450984.402090</td>\n",
       "      <td>0.000000</td>\n",
       "      <td>0</td>\n",
       "      <td>1.241885e+08</td>\n",
       "      <td>0</td>\n",
       "      <td>0</td>\n",
       "      <td>0</td>\n",
       "      <td>0</td>\n",
       "      <td>0</td>\n",
       "      <td>-0.001471</td>\n",
       "      <td>-0.002545</td>\n",
       "      <td>-0.011637</td>\n",
       "      <td>0.000000</td>\n",
       "      <td>0</td>\n",
       "      <td>0</td>\n",
       "      <td>50</td>\n",
       "      <td>0.000000</td>\n",
       "      <td>0.000000</td>\n",
       "      <td>0.000000</td>\n",
       "      <td>1.241885e+08</td>\n",
       "      <td>0</td>\n",
       "      <td>0</td>\n",
       "    </tr>\n",
       "    <tr>\n",
       "      <th>1</th>\n",
       "      <td>5</td>\n",
       "      <td>ConEd</td>\n",
       "      <td>0</td>\n",
       "      <td>2000</td>\n",
       "      <td>150</td>\n",
       "      <td>120</td>\n",
       "      <td>False</td>\n",
       "      <td>False</td>\n",
       "      <td>0</td>\n",
       "      <td>0.000000</td>\n",
       "      <td>0.0</td>\n",
       "      <td>449669.770371</td>\n",
       "      <td>0.000000</td>\n",
       "      <td>0</td>\n",
       "      <td>1.238265e+08</td>\n",
       "      <td>0</td>\n",
       "      <td>0</td>\n",
       "      <td>0</td>\n",
       "      <td>0</td>\n",
       "      <td>0</td>\n",
       "      <td>0.003402</td>\n",
       "      <td>-0.016277</td>\n",
       "      <td>-0.022468</td>\n",
       "      <td>0.000000</td>\n",
       "      <td>0</td>\n",
       "      <td>0</td>\n",
       "      <td>50</td>\n",
       "      <td>0.000000</td>\n",
       "      <td>0.000000</td>\n",
       "      <td>0.000000</td>\n",
       "      <td>1.238265e+08</td>\n",
       "      <td>0</td>\n",
       "      <td>0</td>\n",
       "    </tr>\n",
       "    <tr>\n",
       "      <th>2</th>\n",
       "      <td>2</td>\n",
       "      <td>ConEd</td>\n",
       "      <td>0</td>\n",
       "      <td>2000</td>\n",
       "      <td>150</td>\n",
       "      <td>120</td>\n",
       "      <td>False</td>\n",
       "      <td>False</td>\n",
       "      <td>0</td>\n",
       "      <td>0.000000</td>\n",
       "      <td>0.0</td>\n",
       "      <td>451232.803565</td>\n",
       "      <td>0.000000</td>\n",
       "      <td>0</td>\n",
       "      <td>1.242569e+08</td>\n",
       "      <td>0</td>\n",
       "      <td>0</td>\n",
       "      <td>0</td>\n",
       "      <td>0</td>\n",
       "      <td>0</td>\n",
       "      <td>-0.008697</td>\n",
       "      <td>0.007906</td>\n",
       "      <td>0.011332</td>\n",
       "      <td>0.000000</td>\n",
       "      <td>0</td>\n",
       "      <td>0</td>\n",
       "      <td>50</td>\n",
       "      <td>0.000000</td>\n",
       "      <td>0.000000</td>\n",
       "      <td>0.000000</td>\n",
       "      <td>1.242569e+08</td>\n",
       "      <td>0</td>\n",
       "      <td>0</td>\n",
       "    </tr>\n",
       "    <tr>\n",
       "      <th>3</th>\n",
       "      <td>6</td>\n",
       "      <td>ConEd</td>\n",
       "      <td>0</td>\n",
       "      <td>2000</td>\n",
       "      <td>150</td>\n",
       "      <td>120</td>\n",
       "      <td>False</td>\n",
       "      <td>False</td>\n",
       "      <td>0</td>\n",
       "      <td>0.000000</td>\n",
       "      <td>0.0</td>\n",
       "      <td>444790.562183</td>\n",
       "      <td>0.000000</td>\n",
       "      <td>0</td>\n",
       "      <td>1.224829e+08</td>\n",
       "      <td>0</td>\n",
       "      <td>0</td>\n",
       "      <td>0</td>\n",
       "      <td>0</td>\n",
       "      <td>0</td>\n",
       "      <td>-0.031537</td>\n",
       "      <td>-0.023024</td>\n",
       "      <td>-0.032987</td>\n",
       "      <td>0.000000</td>\n",
       "      <td>0</td>\n",
       "      <td>0</td>\n",
       "      <td>50</td>\n",
       "      <td>0.000000</td>\n",
       "      <td>0.000000</td>\n",
       "      <td>0.000000</td>\n",
       "      <td>1.224829e+08</td>\n",
       "      <td>0</td>\n",
       "      <td>0</td>\n",
       "    </tr>\n",
       "    <tr>\n",
       "      <th>4</th>\n",
       "      <td>1</td>\n",
       "      <td>ConEd</td>\n",
       "      <td>0</td>\n",
       "      <td>2000</td>\n",
       "      <td>150</td>\n",
       "      <td>120</td>\n",
       "      <td>False</td>\n",
       "      <td>False</td>\n",
       "      <td>1</td>\n",
       "      <td>101020.506068</td>\n",
       "      <td>0.0</td>\n",
       "      <td>450984.402090</td>\n",
       "      <td>0.000000</td>\n",
       "      <td>0</td>\n",
       "      <td>1.241885e+08</td>\n",
       "      <td>0</td>\n",
       "      <td>0</td>\n",
       "      <td>0</td>\n",
       "      <td>0</td>\n",
       "      <td>629</td>\n",
       "      <td>-0.001471</td>\n",
       "      <td>-0.002545</td>\n",
       "      <td>-0.011637</td>\n",
       "      <td>4217.126494</td>\n",
       "      <td>0</td>\n",
       "      <td>0</td>\n",
       "      <td>50</td>\n",
       "      <td>0.000000</td>\n",
       "      <td>101020.506068</td>\n",
       "      <td>0.000000</td>\n",
       "      <td>1.241885e+08</td>\n",
       "      <td>629</td>\n",
       "      <td>0</td>\n",
       "    </tr>\n",
       "    <tr>\n",
       "      <th>...</th>\n",
       "      <td>...</td>\n",
       "      <td>...</td>\n",
       "      <td>...</td>\n",
       "      <td>...</td>\n",
       "      <td>...</td>\n",
       "      <td>...</td>\n",
       "      <td>...</td>\n",
       "      <td>...</td>\n",
       "      <td>...</td>\n",
       "      <td>...</td>\n",
       "      <td>...</td>\n",
       "      <td>...</td>\n",
       "      <td>...</td>\n",
       "      <td>...</td>\n",
       "      <td>...</td>\n",
       "      <td>...</td>\n",
       "      <td>...</td>\n",
       "      <td>...</td>\n",
       "      <td>...</td>\n",
       "      <td>...</td>\n",
       "      <td>...</td>\n",
       "      <td>...</td>\n",
       "      <td>...</td>\n",
       "      <td>...</td>\n",
       "      <td>...</td>\n",
       "      <td>...</td>\n",
       "      <td>...</td>\n",
       "      <td>...</td>\n",
       "      <td>...</td>\n",
       "      <td>...</td>\n",
       "      <td>...</td>\n",
       "      <td>...</td>\n",
       "      <td>...</td>\n",
       "    </tr>\n",
       "    <tr>\n",
       "      <th>260495</th>\n",
       "      <td>500</td>\n",
       "      <td>ConEd</td>\n",
       "      <td>0</td>\n",
       "      <td>2000</td>\n",
       "      <td>150</td>\n",
       "      <td>120</td>\n",
       "      <td>False</td>\n",
       "      <td>False</td>\n",
       "      <td>516</td>\n",
       "      <td>94095.550566</td>\n",
       "      <td>0.0</td>\n",
       "      <td>434306.845245</td>\n",
       "      <td>14237.423077</td>\n",
       "      <td>0</td>\n",
       "      <td>1.201797e+08</td>\n",
       "      <td>177</td>\n",
       "      <td>0</td>\n",
       "      <td>0</td>\n",
       "      <td>299</td>\n",
       "      <td>446</td>\n",
       "      <td>0.011941</td>\n",
       "      <td>-0.014909</td>\n",
       "      <td>-0.002271</td>\n",
       "      <td>5276.983619</td>\n",
       "      <td>0</td>\n",
       "      <td>0</td>\n",
       "      <td>500</td>\n",
       "      <td>3.174140</td>\n",
       "      <td>94095.550566</td>\n",
       "      <td>0.140744</td>\n",
       "      <td>1.201797e+08</td>\n",
       "      <td>446</td>\n",
       "      <td>299</td>\n",
       "    </tr>\n",
       "    <tr>\n",
       "      <th>260496</th>\n",
       "      <td>500</td>\n",
       "      <td>ConEd</td>\n",
       "      <td>0</td>\n",
       "      <td>2000</td>\n",
       "      <td>150</td>\n",
       "      <td>120</td>\n",
       "      <td>False</td>\n",
       "      <td>False</td>\n",
       "      <td>517</td>\n",
       "      <td>94095.550566</td>\n",
       "      <td>0.0</td>\n",
       "      <td>434306.845245</td>\n",
       "      <td>14237.423077</td>\n",
       "      <td>0</td>\n",
       "      <td>1.201797e+08</td>\n",
       "      <td>177</td>\n",
       "      <td>0</td>\n",
       "      <td>0</td>\n",
       "      <td>299</td>\n",
       "      <td>446</td>\n",
       "      <td>0.011941</td>\n",
       "      <td>-0.014909</td>\n",
       "      <td>-0.002271</td>\n",
       "      <td>5279.300423</td>\n",
       "      <td>0</td>\n",
       "      <td>0</td>\n",
       "      <td>500</td>\n",
       "      <td>3.174140</td>\n",
       "      <td>94095.550566</td>\n",
       "      <td>0.140744</td>\n",
       "      <td>1.201797e+08</td>\n",
       "      <td>446</td>\n",
       "      <td>299</td>\n",
       "    </tr>\n",
       "    <tr>\n",
       "      <th>260497</th>\n",
       "      <td>500</td>\n",
       "      <td>ConEd</td>\n",
       "      <td>0</td>\n",
       "      <td>2000</td>\n",
       "      <td>150</td>\n",
       "      <td>120</td>\n",
       "      <td>False</td>\n",
       "      <td>False</td>\n",
       "      <td>518</td>\n",
       "      <td>94095.550566</td>\n",
       "      <td>0.0</td>\n",
       "      <td>434306.845245</td>\n",
       "      <td>14237.423077</td>\n",
       "      <td>0</td>\n",
       "      <td>1.201797e+08</td>\n",
       "      <td>177</td>\n",
       "      <td>0</td>\n",
       "      <td>0</td>\n",
       "      <td>299</td>\n",
       "      <td>446</td>\n",
       "      <td>0.011941</td>\n",
       "      <td>-0.014909</td>\n",
       "      <td>-0.002271</td>\n",
       "      <td>5281.620395</td>\n",
       "      <td>0</td>\n",
       "      <td>0</td>\n",
       "      <td>500</td>\n",
       "      <td>3.174140</td>\n",
       "      <td>94095.550566</td>\n",
       "      <td>0.140744</td>\n",
       "      <td>1.201797e+08</td>\n",
       "      <td>446</td>\n",
       "      <td>299</td>\n",
       "    </tr>\n",
       "    <tr>\n",
       "      <th>260498</th>\n",
       "      <td>500</td>\n",
       "      <td>ConEd</td>\n",
       "      <td>0</td>\n",
       "      <td>2000</td>\n",
       "      <td>150</td>\n",
       "      <td>120</td>\n",
       "      <td>False</td>\n",
       "      <td>False</td>\n",
       "      <td>519</td>\n",
       "      <td>94095.550566</td>\n",
       "      <td>0.0</td>\n",
       "      <td>434306.845245</td>\n",
       "      <td>14237.423077</td>\n",
       "      <td>0</td>\n",
       "      <td>1.201797e+08</td>\n",
       "      <td>177</td>\n",
       "      <td>0</td>\n",
       "      <td>0</td>\n",
       "      <td>299</td>\n",
       "      <td>446</td>\n",
       "      <td>0.011941</td>\n",
       "      <td>-0.014909</td>\n",
       "      <td>-0.002271</td>\n",
       "      <td>5283.943441</td>\n",
       "      <td>0</td>\n",
       "      <td>0</td>\n",
       "      <td>500</td>\n",
       "      <td>3.174140</td>\n",
       "      <td>94095.550566</td>\n",
       "      <td>0.140744</td>\n",
       "      <td>1.201797e+08</td>\n",
       "      <td>446</td>\n",
       "      <td>299</td>\n",
       "    </tr>\n",
       "    <tr>\n",
       "      <th>260499</th>\n",
       "      <td>500</td>\n",
       "      <td>ConEd</td>\n",
       "      <td>0</td>\n",
       "      <td>2000</td>\n",
       "      <td>150</td>\n",
       "      <td>120</td>\n",
       "      <td>False</td>\n",
       "      <td>False</td>\n",
       "      <td>520</td>\n",
       "      <td>94095.550566</td>\n",
       "      <td>0.0</td>\n",
       "      <td>434099.960629</td>\n",
       "      <td>14444.307692</td>\n",
       "      <td>0</td>\n",
       "      <td>1.201797e+08</td>\n",
       "      <td>178</td>\n",
       "      <td>0</td>\n",
       "      <td>0</td>\n",
       "      <td>299</td>\n",
       "      <td>447</td>\n",
       "      <td>0.011941</td>\n",
       "      <td>-0.014909</td>\n",
       "      <td>-0.002271</td>\n",
       "      <td>5286.269465</td>\n",
       "      <td>0</td>\n",
       "      <td>0</td>\n",
       "      <td>500</td>\n",
       "      <td>3.220264</td>\n",
       "      <td>94095.550566</td>\n",
       "      <td>0.142317</td>\n",
       "      <td>1.201797e+08</td>\n",
       "      <td>447</td>\n",
       "      <td>299</td>\n",
       "    </tr>\n",
       "  </tbody>\n",
       "</table>\n",
       "<p>442850 rows × 33 columns</p>\n",
       "</div>"
      ],
      "text/plain": [
       "        [run number] region  #-developers  #-households  MW-block-init-kW-res  \\\n",
       "0                  1  ConEd             0          2000                   150   \n",
       "1                  5  ConEd             0          2000                   150   \n",
       "2                  2  ConEd             0          2000                   150   \n",
       "3                  6  ConEd             0          2000                   150   \n",
       "4                  1  ConEd             0          2000                   150   \n",
       "...              ...    ...           ...           ...                   ...   \n",
       "260495           500  ConEd             0          2000                   150   \n",
       "260496           500  ConEd             0          2000                   150   \n",
       "260497           500  ConEd             0          2000                   150   \n",
       "260498           500  ConEd             0          2000                   150   \n",
       "260499           500  ConEd             0          2000                   150   \n",
       "\n",
       "        MW-block-init-kW-com  e-price-effect  csp-true  tick  total-elec-bill  \\\n",
       "0                        120           False     False     0         0.000000   \n",
       "1                        120           False     False     0         0.000000   \n",
       "2                        120           False     False     0         0.000000   \n",
       "3                        120           False     False     0         0.000000   \n",
       "4                        120           False     False     1    101020.506068   \n",
       "...                      ...             ...       ...   ...              ...   \n",
       "260495                   120           False     False   516     94095.550566   \n",
       "260496                   120           False     False   517     94095.550566   \n",
       "260497                   120           False     False   518     94095.550566   \n",
       "260498                   120           False     False   519     94095.550566   \n",
       "260499                   120           False     False   520     94095.550566   \n",
       "\n",
       "        total-proj-cost    elect-usage       prod-hh  csp-prod  emissions-hh  \\\n",
       "0                   0.0  450984.402090      0.000000         0  1.241885e+08   \n",
       "1                   0.0  449669.770371      0.000000         0  1.238265e+08   \n",
       "2                   0.0  451232.803565      0.000000         0  1.242569e+08   \n",
       "3                   0.0  444790.562183      0.000000         0  1.224829e+08   \n",
       "4                   0.0  450984.402090      0.000000         0  1.241885e+08   \n",
       "...                 ...            ...           ...       ...           ...   \n",
       "260495              0.0  434306.845245  14237.423077         0  1.201797e+08   \n",
       "260496              0.0  434306.845245  14237.423077         0  1.201797e+08   \n",
       "260497              0.0  434306.845245  14237.423077         0  1.201797e+08   \n",
       "260498              0.0  434306.845245  14237.423077         0  1.201797e+08   \n",
       "260499              0.0  434099.960629  14444.307692         0  1.201797e+08   \n",
       "\n",
       "        #-hh-rpv  #-hh-csp  able-to-cs  pos-npv  pos-savings   avg-age  \\\n",
       "0              0         0           0        0            0 -0.001471   \n",
       "1              0         0           0        0            0  0.003402   \n",
       "2              0         0           0        0            0 -0.008697   \n",
       "3              0         0           0        0            0 -0.031537   \n",
       "4              0         0           0        0          629 -0.001471   \n",
       "...          ...       ...         ...      ...          ...       ...   \n",
       "260495       177         0           0      299          446  0.011941   \n",
       "260496       177         0           0      299          446  0.011941   \n",
       "260497       177         0           0      299          446  0.011941   \n",
       "260498       177         0           0      299          446  0.011941   \n",
       "260499       178         0           0      299          447  0.011941   \n",
       "\n",
       "        avg-income  avg-education  avg-savings  developers  \\\n",
       "0        -0.002545      -0.011637     0.000000           0   \n",
       "1        -0.016277      -0.022468     0.000000           0   \n",
       "2         0.007906       0.011332     0.000000           0   \n",
       "3        -0.023024      -0.032987     0.000000           0   \n",
       "4        -0.002545      -0.011637  4217.126494           0   \n",
       "...            ...            ...          ...         ...   \n",
       "260495   -0.014909      -0.002271  5276.983619           0   \n",
       "260496   -0.014909      -0.002271  5279.300423           0   \n",
       "260497   -0.014909      -0.002271  5281.620395           0   \n",
       "260498   -0.014909      -0.002271  5283.943441           0   \n",
       "260499   -0.014909      -0.002271  5286.269465           0   \n",
       "\n",
       "        estimated profit developers  runs  Availability  Affordability  \\\n",
       "0                                 0    50      0.000000       0.000000   \n",
       "1                                 0    50      0.000000       0.000000   \n",
       "2                                 0    50      0.000000       0.000000   \n",
       "3                                 0    50      0.000000       0.000000   \n",
       "4                                 0    50      0.000000  101020.506068   \n",
       "...                             ...   ...           ...            ...   \n",
       "260495                            0   500      3.174140   94095.550566   \n",
       "260496                            0   500      3.174140   94095.550566   \n",
       "260497                            0   500      3.174140   94095.550566   \n",
       "260498                            0   500      3.174140   94095.550566   \n",
       "260499                            0   500      3.220264   94095.550566   \n",
       "\n",
       "        Accessibility  Acceptability  Ability  Appeal  \n",
       "0            0.000000   1.241885e+08        0       0  \n",
       "1            0.000000   1.238265e+08        0       0  \n",
       "2            0.000000   1.242569e+08        0       0  \n",
       "3            0.000000   1.224829e+08        0       0  \n",
       "4            0.000000   1.241885e+08      629       0  \n",
       "...               ...            ...      ...     ...  \n",
       "260495       0.140744   1.201797e+08      446     299  \n",
       "260496       0.140744   1.201797e+08      446     299  \n",
       "260497       0.140744   1.201797e+08      446     299  \n",
       "260498       0.140744   1.201797e+08      446     299  \n",
       "260499       0.142317   1.201797e+08      447     299  \n",
       "\n",
       "[442850 rows x 33 columns]"
      ]
     },
     "execution_count": 21,
     "metadata": {},
     "output_type": "execute_result"
    }
   ],
   "source": [
    "df['Appeal'] = df.apply(fkpi61, axis=1)\n",
    "df['Appeal'].mean()\n",
    "df"
   ]
  },
  {
   "cell_type": "code",
   "execution_count": 22,
   "id": "16ce0478",
   "metadata": {},
   "outputs": [],
   "source": [
    "df_set = df[df['tick'] == 520]"
   ]
  },
  {
   "cell_type": "code",
   "execution_count": 23,
   "id": "09e7b802",
   "metadata": {},
   "outputs": [],
   "source": [
    "from scipy.stats import skew\n",
    "from scipy.stats import kurtosis"
   ]
  },
  {
   "cell_type": "code",
   "execution_count": 24,
   "id": "57a159a3",
   "metadata": {},
   "outputs": [],
   "source": [
    "kpi_list = ['Availability', 'Affordability', 'Accessibility', 'Acceptability', 'Ability', 'Appeal' ]"
   ]
  },
  {
   "cell_type": "code",
   "execution_count": 25,
   "id": "5aad61fb",
   "metadata": {},
   "outputs": [],
   "source": [
    "ss1 = df_set[(df_set['runs'] == 50 )]\n",
    "ss2 = df_set[(df_set['runs'] == 100 )]\n",
    "ss3 = df_set[(df_set['runs'] == 200 )]\n",
    "ss4 = df_set[(df_set['runs'] == 500 )]"
   ]
  },
  {
   "cell_type": "code",
   "execution_count": 51,
   "id": "417da6c3",
   "metadata": {},
   "outputs": [
    {
     "data": {
      "text/plain": [
       "Text(4.6, 15, 'Skewness: 0.204844')"
      ]
     },
     "execution_count": 51,
     "metadata": {},
     "output_type": "execute_result"
    },
    {
     "data": {
      "text/plain": [
       "Text(4.6, 14, 'Kurtosis: 2.902398')"
      ]
     },
     "execution_count": 51,
     "metadata": {},
     "output_type": "execute_result"
    },
    {
     "data": {
      "text/plain": [
       "Text(0.5, 1.0, 'Number of runs: 50, KPI: Availability')"
      ]
     },
     "execution_count": 51,
     "metadata": {},
     "output_type": "execute_result"
    },
    {
     "data": {
      "image/png": "[encoded data removed]",
      "text/plain": [
       "<Figure size 640x480 with 1 Axes>"
      ]
     },
     "metadata": {},
     "output_type": "display_data"
    }
   ],
   "source": [
    "fig = sns.histplot(ss1['Availability'], color=\"skyblue\")\n",
    "plt.text(x=4.6, y=15, s=\"Skewness: %f\" % skew(ss1['Availability'], axis=0, bias=True),\\\n",
    "    fontweight='demibold', fontsize=10, verticalalignment='top', horizontalalignment='right',\\\n",
    "    backgroundcolor='white', color='xkcd:poo brown')\n",
    "plt.text(x=4.6, y=14, s=\"Kurtosis: %f\" % kurtosis(ss1['Availability'], axis=0,fisher =  False, bias=True),\\\n",
    "    fontweight='demibold', fontsize=10, verticalalignment='top', horizontalalignment='right',\\\n",
    "    backgroundcolor='white', color='xkcd:dried blood')\n",
    "fig.set_title(f'Number of runs: 50, KPI: Availability', fontsize = 10)"
   ]
  },
  {
   "cell_type": "code",
   "execution_count": null,
   "id": "011d2928",
   "metadata": {},
   "outputs": [],
   "source": []
  },
  {
   "cell_type": "code",
   "execution_count": 85,
   "id": "fd2e869a",
   "metadata": {
    "scrolled": false
   },
   "outputs": [
    {
     "data": {
      "text/plain": [
       "<AxesSubplot:xlabel='Availability', ylabel='Count'>"
      ]
     },
     "execution_count": 85,
     "metadata": {},
     "output_type": "execute_result"
    },
    {
     "data": {
      "text/plain": [
       "Text(1, 0.9, 'Skewness: 0.204844')"
      ]
     },
     "execution_count": 85,
     "metadata": {},
     "output_type": "execute_result"
    },
    {
     "data": {
      "text/plain": [
       "Text(1, 0.82, 'Kurtosis: 2.902398')"
      ]
     },
     "execution_count": 85,
     "metadata": {},
     "output_type": "execute_result"
    },
    {
     "data": {
      "text/plain": [
       "Text(0.5, 1.0, 'Number of runs: 50, KPI: Availability')"
      ]
     },
     "execution_count": 85,
     "metadata": {},
     "output_type": "execute_result"
    },
    {
     "data": {
      "text/plain": [
       "<AxesSubplot:xlabel='Affordability', ylabel='Count'>"
      ]
     },
     "execution_count": 85,
     "metadata": {},
     "output_type": "execute_result"
    },
    {
     "data": {
      "text/plain": [
       "Text(1, 0.9, 'Skewness: 2.437271')"
      ]
     },
     "execution_count": 85,
     "metadata": {},
     "output_type": "execute_result"
    },
    {
     "data": {
      "text/plain": [
       "Text(1, 0.82, 'Kurtosis: 10.393112')"
      ]
     },
     "execution_count": 85,
     "metadata": {},
     "output_type": "execute_result"
    },
    {
     "data": {
      "text/plain": [
       "Text(0.5, 1.0, 'Number of runs: 50, KPI: Affordability')"
      ]
     },
     "execution_count": 85,
     "metadata": {},
     "output_type": "execute_result"
    },
    {
     "data": {
      "text/plain": [
       "<AxesSubplot:xlabel='Accessibility', ylabel='Count'>"
      ]
     },
     "execution_count": 85,
     "metadata": {},
     "output_type": "execute_result"
    },
    {
     "data": {
      "text/plain": [
       "Text(1, 0.9, 'Skewness: 0.129350')"
      ]
     },
     "execution_count": 85,
     "metadata": {},
     "output_type": "execute_result"
    },
    {
     "data": {
      "text/plain": [
       "Text(1, 0.82, 'Kurtosis: 2.793608')"
      ]
     },
     "execution_count": 85,
     "metadata": {},
     "output_type": "execute_result"
    },
    {
     "data": {
      "text/plain": [
       "Text(0.5, 1.0, 'Number of runs: 50, KPI: Accessibility')"
      ]
     },
     "execution_count": 85,
     "metadata": {},
     "output_type": "execute_result"
    },
    {
     "data": {
      "text/plain": [
       "<AxesSubplot:xlabel='Acceptability', ylabel='Count'>"
      ]
     },
     "execution_count": 85,
     "metadata": {},
     "output_type": "execute_result"
    },
    {
     "data": {
      "text/plain": [
       "Text(1, 0.9, 'Skewness: -0.061460')"
      ]
     },
     "execution_count": 85,
     "metadata": {},
     "output_type": "execute_result"
    },
    {
     "data": {
      "text/plain": [
       "Text(1, 0.82, 'Kurtosis: 2.306999')"
      ]
     },
     "execution_count": 85,
     "metadata": {},
     "output_type": "execute_result"
    },
    {
     "data": {
      "text/plain": [
       "Text(0.5, 1.0, 'Number of runs: 50, KPI: Acceptability')"
      ]
     },
     "execution_count": 85,
     "metadata": {},
     "output_type": "execute_result"
    },
    {
     "data": {
      "text/plain": [
       "<AxesSubplot:xlabel='Ability', ylabel='Count'>"
      ]
     },
     "execution_count": 85,
     "metadata": {},
     "output_type": "execute_result"
    },
    {
     "data": {
      "text/plain": [
       "Text(1, 0.9, 'Skewness: -0.222709')"
      ]
     },
     "execution_count": 85,
     "metadata": {},
     "output_type": "execute_result"
    },
    {
     "data": {
      "text/plain": [
       "Text(1, 0.82, 'Kurtosis: 2.441976')"
      ]
     },
     "execution_count": 85,
     "metadata": {},
     "output_type": "execute_result"
    },
    {
     "data": {
      "text/plain": [
       "Text(0.5, 1.0, 'Number of runs: 50, KPI: Ability')"
      ]
     },
     "execution_count": 85,
     "metadata": {},
     "output_type": "execute_result"
    },
    {
     "data": {
      "text/plain": [
       "<AxesSubplot:xlabel='Appeal', ylabel='Count'>"
      ]
     },
     "execution_count": 85,
     "metadata": {},
     "output_type": "execute_result"
    },
    {
     "data": {
      "text/plain": [
       "Text(1, 0.9, 'Skewness: 0.199993')"
      ]
     },
     "execution_count": 85,
     "metadata": {},
     "output_type": "execute_result"
    },
    {
     "data": {
      "text/plain": [
       "Text(1, 0.82, 'Kurtosis: 2.581622')"
      ]
     },
     "execution_count": 85,
     "metadata": {},
     "output_type": "execute_result"
    },
    {
     "data": {
      "text/plain": [
       "Text(0.5, 1.0, 'Number of runs: 50, KPI: Appeal')"
      ]
     },
     "execution_count": 85,
     "metadata": {},
     "output_type": "execute_result"
    }
   ],
   "source": [
    "for i in kpi_list:\n",
    "    f, ax = plt.subplots(1)\n",
    "    sns.histplot(ss1[i], color=\"skyblue\")\n",
    "    ax.text(x=1,  y=0.9, transform=ax.transAxes, s=\"Skewness: %f\" % skew(ss1[i], axis=0, bias=True),\\\n",
    "        fontweight='demibold', fontsize=10, verticalalignment='top', horizontalalignment='right',\\\n",
    "        backgroundcolor='white', color='xkcd:poo brown')\n",
    "    ax.text(x=1, y=0.82 , transform=ax.transAxes, s=\"Kurtosis: %f\" % kurtosis(ss1[i], axis=0,fisher =  False, bias=True),\\\n",
    "        fontweight='demibold', fontsize=10, verticalalignment='top', horizontalalignment='right',\\\n",
    "        backgroundcolor='white', color='xkcd:dried blood')\n",
    "    ax.set_title(f'Number of runs: 50, KPI: {i}', fontsize = 10)\n",
    "    plt.savefig(f'runs 50, kpi:{i}',bbox_inches=\"tight\")\n",
    "    plt.close()"
   ]
  },
  {
   "cell_type": "code",
   "execution_count": 86,
   "id": "863b0fd9",
   "metadata": {},
   "outputs": [
    {
     "data": {
      "text/plain": [
       "<AxesSubplot:xlabel='Availability', ylabel='Count'>"
      ]
     },
     "execution_count": 86,
     "metadata": {},
     "output_type": "execute_result"
    },
    {
     "data": {
      "text/plain": [
       "Text(1, 0.9, 'Skewness: -0.308221')"
      ]
     },
     "execution_count": 86,
     "metadata": {},
     "output_type": "execute_result"
    },
    {
     "data": {
      "text/plain": [
       "Text(1, 0.82, 'Kurtosis: 3.602023')"
      ]
     },
     "execution_count": 86,
     "metadata": {},
     "output_type": "execute_result"
    },
    {
     "data": {
      "text/plain": [
       "Text(0.5, 1.0, 'Number of runs: 100, KPI: Availability')"
      ]
     },
     "execution_count": 86,
     "metadata": {},
     "output_type": "execute_result"
    },
    {
     "data": {
      "text/plain": [
       "<AxesSubplot:xlabel='Affordability', ylabel='Count'>"
      ]
     },
     "execution_count": 86,
     "metadata": {},
     "output_type": "execute_result"
    },
    {
     "data": {
      "text/plain": [
       "Text(1, 0.9, 'Skewness: 2.138935')"
      ]
     },
     "execution_count": 86,
     "metadata": {},
     "output_type": "execute_result"
    },
    {
     "data": {
      "text/plain": [
       "Text(1, 0.82, 'Kurtosis: 7.666439')"
      ]
     },
     "execution_count": 86,
     "metadata": {},
     "output_type": "execute_result"
    },
    {
     "data": {
      "text/plain": [
       "Text(0.5, 1.0, 'Number of runs: 100, KPI: Affordability')"
      ]
     },
     "execution_count": 86,
     "metadata": {},
     "output_type": "execute_result"
    },
    {
     "data": {
      "text/plain": [
       "<AxesSubplot:xlabel='Accessibility', ylabel='Count'>"
      ]
     },
     "execution_count": 86,
     "metadata": {},
     "output_type": "execute_result"
    },
    {
     "data": {
      "text/plain": [
       "Text(1, 0.9, 'Skewness: -0.411896')"
      ]
     },
     "execution_count": 86,
     "metadata": {},
     "output_type": "execute_result"
    },
    {
     "data": {
      "text/plain": [
       "Text(1, 0.82, 'Kurtosis: 3.708831')"
      ]
     },
     "execution_count": 86,
     "metadata": {},
     "output_type": "execute_result"
    },
    {
     "data": {
      "text/plain": [
       "Text(0.5, 1.0, 'Number of runs: 100, KPI: Accessibility')"
      ]
     },
     "execution_count": 86,
     "metadata": {},
     "output_type": "execute_result"
    },
    {
     "data": {
      "text/plain": [
       "<AxesSubplot:xlabel='Acceptability', ylabel='Count'>"
      ]
     },
     "execution_count": 86,
     "metadata": {},
     "output_type": "execute_result"
    },
    {
     "data": {
      "text/plain": [
       "Text(1, 0.9, 'Skewness: 0.162564')"
      ]
     },
     "execution_count": 86,
     "metadata": {},
     "output_type": "execute_result"
    },
    {
     "data": {
      "text/plain": [
       "Text(1, 0.82, 'Kurtosis: 2.691503')"
      ]
     },
     "execution_count": 86,
     "metadata": {},
     "output_type": "execute_result"
    },
    {
     "data": {
      "text/plain": [
       "Text(0.5, 1.0, 'Number of runs: 100, KPI: Acceptability')"
      ]
     },
     "execution_count": 86,
     "metadata": {},
     "output_type": "execute_result"
    },
    {
     "data": {
      "text/plain": [
       "<AxesSubplot:xlabel='Ability', ylabel='Count'>"
      ]
     },
     "execution_count": 86,
     "metadata": {},
     "output_type": "execute_result"
    },
    {
     "data": {
      "text/plain": [
       "Text(1, 0.9, 'Skewness: 0.248843')"
      ]
     },
     "execution_count": 86,
     "metadata": {},
     "output_type": "execute_result"
    },
    {
     "data": {
      "text/plain": [
       "Text(1, 0.82, 'Kurtosis: 3.647917')"
      ]
     },
     "execution_count": 86,
     "metadata": {},
     "output_type": "execute_result"
    },
    {
     "data": {
      "text/plain": [
       "Text(0.5, 1.0, 'Number of runs: 100, KPI: Ability')"
      ]
     },
     "execution_count": 86,
     "metadata": {},
     "output_type": "execute_result"
    },
    {
     "data": {
      "text/plain": [
       "<AxesSubplot:xlabel='Appeal', ylabel='Count'>"
      ]
     },
     "execution_count": 86,
     "metadata": {},
     "output_type": "execute_result"
    },
    {
     "data": {
      "text/plain": [
       "Text(1, 0.9, 'Skewness: 0.080101')"
      ]
     },
     "execution_count": 86,
     "metadata": {},
     "output_type": "execute_result"
    },
    {
     "data": {
      "text/plain": [
       "Text(1, 0.82, 'Kurtosis: 2.436676')"
      ]
     },
     "execution_count": 86,
     "metadata": {},
     "output_type": "execute_result"
    },
    {
     "data": {
      "text/plain": [
       "Text(0.5, 1.0, 'Number of runs: 100, KPI: Appeal')"
      ]
     },
     "execution_count": 86,
     "metadata": {},
     "output_type": "execute_result"
    }
   ],
   "source": [
    "for i in kpi_list:\n",
    "    f, ax = plt.subplots(1)\n",
    "    sns.histplot(ss2[i], color=\"skyblue\")\n",
    "    ax.text(x=1,  y=0.9, transform=ax.transAxes, s=\"Skewness: %f\" % skew(ss2[i], axis=0, bias=True),\\\n",
    "        fontweight='demibold', fontsize=10, verticalalignment='top', horizontalalignment='right',\\\n",
    "        backgroundcolor='white', color='xkcd:poo brown')\n",
    "    ax.text(x=1, y=0.82 , transform=ax.transAxes, s=\"Kurtosis: %f\" % kurtosis(ss2[i], axis=0,fisher =  False, bias=True),\\\n",
    "        fontweight='demibold', fontsize=10, verticalalignment='top', horizontalalignment='right',\\\n",
    "        backgroundcolor='white', color='xkcd:dried blood')\n",
    "    ax.set_title(f'Number of runs: 100, KPI: {i}', fontsize = 10)\n",
    "    plt.savefig(f'runs 100, kpi:{i}',bbox_inches=\"tight\")\n",
    "    plt.close()"
   ]
  },
  {
   "cell_type": "code",
   "execution_count": 87,
   "id": "e433e1fd",
   "metadata": {},
   "outputs": [
    {
     "data": {
      "text/plain": [
       "<AxesSubplot:xlabel='Availability', ylabel='Count'>"
      ]
     },
     "execution_count": 87,
     "metadata": {},
     "output_type": "execute_result"
    },
    {
     "data": {
      "text/plain": [
       "Text(1, 0.9, 'Skewness: 0.251837')"
      ]
     },
     "execution_count": 87,
     "metadata": {},
     "output_type": "execute_result"
    },
    {
     "data": {
      "text/plain": [
       "Text(1, 0.82, 'Kurtosis: 2.754564')"
      ]
     },
     "execution_count": 87,
     "metadata": {},
     "output_type": "execute_result"
    },
    {
     "data": {
      "text/plain": [
       "Text(0.5, 1.0, 'Number of runs: 200, KPI: Availability')"
      ]
     },
     "execution_count": 87,
     "metadata": {},
     "output_type": "execute_result"
    },
    {
     "data": {
      "text/plain": [
       "<AxesSubplot:xlabel='Affordability', ylabel='Count'>"
      ]
     },
     "execution_count": 87,
     "metadata": {},
     "output_type": "execute_result"
    },
    {
     "data": {
      "text/plain": [
       "Text(1, 0.9, 'Skewness: 2.996680')"
      ]
     },
     "execution_count": 87,
     "metadata": {},
     "output_type": "execute_result"
    },
    {
     "data": {
      "text/plain": [
       "Text(1, 0.82, 'Kurtosis: 13.112742')"
      ]
     },
     "execution_count": 87,
     "metadata": {},
     "output_type": "execute_result"
    },
    {
     "data": {
      "text/plain": [
       "Text(0.5, 1.0, 'Number of runs: 200, KPI: Affordability')"
      ]
     },
     "execution_count": 87,
     "metadata": {},
     "output_type": "execute_result"
    },
    {
     "data": {
      "text/plain": [
       "<AxesSubplot:xlabel='Accessibility', ylabel='Count'>"
      ]
     },
     "execution_count": 87,
     "metadata": {},
     "output_type": "execute_result"
    },
    {
     "data": {
      "text/plain": [
       "Text(1, 0.9, 'Skewness: 0.182613')"
      ]
     },
     "execution_count": 87,
     "metadata": {},
     "output_type": "execute_result"
    },
    {
     "data": {
      "text/plain": [
       "Text(1, 0.82, 'Kurtosis: 2.724702')"
      ]
     },
     "execution_count": 87,
     "metadata": {},
     "output_type": "execute_result"
    },
    {
     "data": {
      "text/plain": [
       "Text(0.5, 1.0, 'Number of runs: 200, KPI: Accessibility')"
      ]
     },
     "execution_count": 87,
     "metadata": {},
     "output_type": "execute_result"
    },
    {
     "data": {
      "text/plain": [
       "<AxesSubplot:xlabel='Acceptability', ylabel='Count'>"
      ]
     },
     "execution_count": 87,
     "metadata": {},
     "output_type": "execute_result"
    },
    {
     "data": {
      "text/plain": [
       "Text(1, 0.9, 'Skewness: -0.177813')"
      ]
     },
     "execution_count": 87,
     "metadata": {},
     "output_type": "execute_result"
    },
    {
     "data": {
      "text/plain": [
       "Text(1, 0.82, 'Kurtosis: 2.802609')"
      ]
     },
     "execution_count": 87,
     "metadata": {},
     "output_type": "execute_result"
    },
    {
     "data": {
      "text/plain": [
       "Text(0.5, 1.0, 'Number of runs: 200, KPI: Acceptability')"
      ]
     },
     "execution_count": 87,
     "metadata": {},
     "output_type": "execute_result"
    },
    {
     "data": {
      "text/plain": [
       "<AxesSubplot:xlabel='Ability', ylabel='Count'>"
      ]
     },
     "execution_count": 87,
     "metadata": {},
     "output_type": "execute_result"
    },
    {
     "data": {
      "text/plain": [
       "Text(1, 0.9, 'Skewness: -0.088904')"
      ]
     },
     "execution_count": 87,
     "metadata": {},
     "output_type": "execute_result"
    },
    {
     "data": {
      "text/plain": [
       "Text(1, 0.82, 'Kurtosis: 2.651244')"
      ]
     },
     "execution_count": 87,
     "metadata": {},
     "output_type": "execute_result"
    },
    {
     "data": {
      "text/plain": [
       "Text(0.5, 1.0, 'Number of runs: 200, KPI: Ability')"
      ]
     },
     "execution_count": 87,
     "metadata": {},
     "output_type": "execute_result"
    },
    {
     "data": {
      "text/plain": [
       "<AxesSubplot:xlabel='Appeal', ylabel='Count'>"
      ]
     },
     "execution_count": 87,
     "metadata": {},
     "output_type": "execute_result"
    },
    {
     "data": {
      "text/plain": [
       "Text(1, 0.9, 'Skewness: 0.014672')"
      ]
     },
     "execution_count": 87,
     "metadata": {},
     "output_type": "execute_result"
    },
    {
     "data": {
      "text/plain": [
       "Text(1, 0.82, 'Kurtosis: 2.892968')"
      ]
     },
     "execution_count": 87,
     "metadata": {},
     "output_type": "execute_result"
    },
    {
     "data": {
      "text/plain": [
       "Text(0.5, 1.0, 'Number of runs: 200, KPI: Appeal')"
      ]
     },
     "execution_count": 87,
     "metadata": {},
     "output_type": "execute_result"
    }
   ],
   "source": [
    "for i in kpi_list:\n",
    "    f, ax = plt.subplots(1)\n",
    "    sns.histplot(ss3[i], color=\"skyblue\")\n",
    "    ax.text(x=1,  y=0.9, transform=ax.transAxes, s=\"Skewness: %f\" % skew(ss3[i], axis=0, bias=True),\\\n",
    "        fontweight='demibold', fontsize=10, verticalalignment='top', horizontalalignment='right',\\\n",
    "        backgroundcolor='white', color='xkcd:poo brown')\n",
    "    ax.text(x=1, y=0.82 , transform=ax.transAxes, s=\"Kurtosis: %f\" % kurtosis(ss3[i], axis=0,fisher =  False, bias=True),\\\n",
    "        fontweight='demibold', fontsize=10, verticalalignment='top', horizontalalignment='right',\\\n",
    "        backgroundcolor='white', color='xkcd:dried blood')\n",
    "    ax.set_title(f'Number of runs: 200, KPI: {i}', fontsize = 10)\n",
    "    plt.savefig(f'runs 200, kpi:{i}',bbox_inches=\"tight\")\n",
    "    plt.close()"
   ]
  },
  {
   "cell_type": "code",
   "execution_count": 88,
   "id": "9ad49312",
   "metadata": {},
   "outputs": [
    {
     "data": {
      "text/plain": [
       "<AxesSubplot:xlabel='Availability', ylabel='Count'>"
      ]
     },
     "execution_count": 88,
     "metadata": {},
     "output_type": "execute_result"
    },
    {
     "data": {
      "text/plain": [
       "Text(1, 0.9, 'Skewness: 0.228939')"
      ]
     },
     "execution_count": 88,
     "metadata": {},
     "output_type": "execute_result"
    },
    {
     "data": {
      "text/plain": [
       "Text(1, 0.82, 'Kurtosis: 3.072917')"
      ]
     },
     "execution_count": 88,
     "metadata": {},
     "output_type": "execute_result"
    },
    {
     "data": {
      "text/plain": [
       "Text(0.5, 1.0, 'Number of runs: 500, KPI: Availability')"
      ]
     },
     "execution_count": 88,
     "metadata": {},
     "output_type": "execute_result"
    },
    {
     "data": {
      "text/plain": [
       "<AxesSubplot:xlabel='Affordability', ylabel='Count'>"
      ]
     },
     "execution_count": 88,
     "metadata": {},
     "output_type": "execute_result"
    },
    {
     "data": {
      "text/plain": [
       "Text(1, 0.9, 'Skewness: 3.403822')"
      ]
     },
     "execution_count": 88,
     "metadata": {},
     "output_type": "execute_result"
    },
    {
     "data": {
      "text/plain": [
       "Text(1, 0.82, 'Kurtosis: 18.967259')"
      ]
     },
     "execution_count": 88,
     "metadata": {},
     "output_type": "execute_result"
    },
    {
     "data": {
      "text/plain": [
       "Text(0.5, 1.0, 'Number of runs: 500, KPI: Affordability')"
      ]
     },
     "execution_count": 88,
     "metadata": {},
     "output_type": "execute_result"
    },
    {
     "data": {
      "text/plain": [
       "<AxesSubplot:xlabel='Accessibility', ylabel='Count'>"
      ]
     },
     "execution_count": 88,
     "metadata": {},
     "output_type": "execute_result"
    },
    {
     "data": {
      "text/plain": [
       "Text(1, 0.9, 'Skewness: 0.148942')"
      ]
     },
     "execution_count": 88,
     "metadata": {},
     "output_type": "execute_result"
    },
    {
     "data": {
      "text/plain": [
       "Text(1, 0.82, 'Kurtosis: 3.001355')"
      ]
     },
     "execution_count": 88,
     "metadata": {},
     "output_type": "execute_result"
    },
    {
     "data": {
      "text/plain": [
       "Text(0.5, 1.0, 'Number of runs: 500, KPI: Accessibility')"
      ]
     },
     "execution_count": 88,
     "metadata": {},
     "output_type": "execute_result"
    },
    {
     "data": {
      "text/plain": [
       "<AxesSubplot:xlabel='Acceptability', ylabel='Count'>"
      ]
     },
     "execution_count": 88,
     "metadata": {},
     "output_type": "execute_result"
    },
    {
     "data": {
      "text/plain": [
       "Text(1, 0.9, 'Skewness: 0.075932')"
      ]
     },
     "execution_count": 88,
     "metadata": {},
     "output_type": "execute_result"
    },
    {
     "data": {
      "text/plain": [
       "Text(1, 0.82, 'Kurtosis: 2.759703')"
      ]
     },
     "execution_count": 88,
     "metadata": {},
     "output_type": "execute_result"
    },
    {
     "data": {
      "text/plain": [
       "Text(0.5, 1.0, 'Number of runs: 500, KPI: Acceptability')"
      ]
     },
     "execution_count": 88,
     "metadata": {},
     "output_type": "execute_result"
    },
    {
     "data": {
      "text/plain": [
       "<AxesSubplot:xlabel='Ability', ylabel='Count'>"
      ]
     },
     "execution_count": 88,
     "metadata": {},
     "output_type": "execute_result"
    },
    {
     "data": {
      "text/plain": [
       "Text(1, 0.9, 'Skewness: 0.002145')"
      ]
     },
     "execution_count": 88,
     "metadata": {},
     "output_type": "execute_result"
    },
    {
     "data": {
      "text/plain": [
       "Text(1, 0.82, 'Kurtosis: 2.925035')"
      ]
     },
     "execution_count": 88,
     "metadata": {},
     "output_type": "execute_result"
    },
    {
     "data": {
      "text/plain": [
       "Text(0.5, 1.0, 'Number of runs: 500, KPI: Ability')"
      ]
     },
     "execution_count": 88,
     "metadata": {},
     "output_type": "execute_result"
    },
    {
     "data": {
      "text/plain": [
       "<AxesSubplot:xlabel='Appeal', ylabel='Count'>"
      ]
     },
     "execution_count": 88,
     "metadata": {},
     "output_type": "execute_result"
    },
    {
     "data": {
      "text/plain": [
       "Text(1, 0.9, 'Skewness: 0.011895')"
      ]
     },
     "execution_count": 88,
     "metadata": {},
     "output_type": "execute_result"
    },
    {
     "data": {
      "text/plain": [
       "Text(1, 0.82, 'Kurtosis: 3.107370')"
      ]
     },
     "execution_count": 88,
     "metadata": {},
     "output_type": "execute_result"
    },
    {
     "data": {
      "text/plain": [
       "Text(0.5, 1.0, 'Number of runs: 500, KPI: Appeal')"
      ]
     },
     "execution_count": 88,
     "metadata": {},
     "output_type": "execute_result"
    }
   ],
   "source": [
    "for i in kpi_list:\n",
    "    f, ax = plt.subplots(1)\n",
    "    sns.histplot(ss4[i], color=\"skyblue\")\n",
    "    ax.text(x=1,  y=0.9, transform=ax.transAxes, s=\"Skewness: %f\" % skew(ss4[i], axis=0, bias=True),\\\n",
    "        fontweight='demibold', fontsize=10, verticalalignment='top', horizontalalignment='right',\\\n",
    "        backgroundcolor='white', color='xkcd:poo brown')\n",
    "    ax.text(x=1, y=0.82 , transform=ax.transAxes, s=\"Kurtosis: %f\" % kurtosis(ss4[i], axis=0,fisher =  False, bias=True),\\\n",
    "        fontweight='demibold', fontsize=10, verticalalignment='top', horizontalalignment='right',\\\n",
    "        backgroundcolor='white', color='xkcd:dried blood')\n",
    "    ax.set_title(f'Number of runs: 500, KPI: {i}', fontsize = 10)\n",
    "    plt.savefig(f'runs 500, kpi:{i}',bbox_inches=\"tight\")\n",
    "    plt.close()"
   ]
  },
  {
   "cell_type": "code",
   "execution_count": null,
   "id": "d204df31",
   "metadata": {},
   "outputs": [],
   "source": []
  },
  {
   "cell_type": "code",
   "execution_count": null,
   "id": "1c73683a",
   "metadata": {},
   "outputs": [],
   "source": []
  }
 ],
 "metadata": {
  "kernelspec": {
   "display_name": "Python 3 (ipykernel)",
   "language": "python",
   "name": "python3"
  },
  "language_info": {
   "codemirror_mode": {
    "name": "ipython",
    "version": 3
   },
   "file_extension": ".py",
   "mimetype": "text/x-python",
   "name": "python",
   "nbconvert_exporter": "python",
   "pygments_lexer": "ipython3",
   "version": "3.8.13"
  }
 },
 "nbformat": 4,
 "nbformat_minor": 5
}
